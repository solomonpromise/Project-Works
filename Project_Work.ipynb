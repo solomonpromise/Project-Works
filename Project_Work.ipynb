{
  "nbformat": 4,
  "nbformat_minor": 0,
  "metadata": {
    "kernelspec": {
      "display_name": "Python 3",
      "language": "python",
      "name": "python3"
    },
    "language_info": {
      "codemirror_mode": {
        "name": "ipython",
        "version": 3
      },
      "file_extension": ".py",
      "mimetype": "text/x-python",
      "name": "python",
      "nbconvert_exporter": "python",
      "pygments_lexer": "ipython3",
      "version": "3.7.6"
    },
    "colab": {
      "name": "Project Work.ipynb",
      "provenance": [],
      "include_colab_link": true
    }
  },
  "cells": [
    {
      "cell_type": "markdown",
      "metadata": {
        "id": "view-in-github",
        "colab_type": "text"
      },
      "source": [
        "<a href=\"https://colab.research.google.com/github/solomonpromise/solo/blob/master/Project_Work.ipynb\" target=\"_parent\"><img src=\"https://colab.research.google.com/assets/colab-badge.svg\" alt=\"Open In Colab\"/></a>"
      ]
    },
    {
      "cell_type": "markdown",
      "metadata": {
        "id": "m9ekm1mepwVF"
      },
      "source": [
        "# A Project Work on Detecting Fake Twitter News"
      ]
    },
    {
      "cell_type": "markdown",
      "metadata": {
        "id": "rnp61cCwpwVM"
      },
      "source": [
        "### Importing Libraries "
      ]
    },
    {
      "cell_type": "code",
      "metadata": {
        "id": "grhk3XTjpwVN"
      },
      "source": [
        "import pandas as pd\n",
        "import numpy as np\n",
        "import sklearn\n",
        "from sklearn.utils import shuffle, resample"
      ],
      "execution_count": null,
      "outputs": []
    },
    {
      "cell_type": "markdown",
      "metadata": {
        "id": "78PW3PeqpwVQ"
      },
      "source": [
        "### Inspectining the Data Set"
      ]
    },
    {
      "cell_type": "code",
      "metadata": {
        "id": "0gyiEhhKpwVQ"
      },
      "source": [
        "#loading in my first dataset that contains true news.\n",
        "df_true = pd.read_csv(\"True.csv\")"
      ],
      "execution_count": null,
      "outputs": []
    },
    {
      "cell_type": "code",
      "metadata": {
        "id": "0h3RIK5opwVR",
        "outputId": "d56e8b0d-c9d0-4abd-b3d1-1f210e6145a5"
      },
      "source": [
        "#hchecking the head of my dataset\n",
        "df_true.head()"
      ],
      "execution_count": null,
      "outputs": [
        {
          "data": {
            "text/html": [
              "<div>\n",
              "<style scoped>\n",
              "    .dataframe tbody tr th:only-of-type {\n",
              "        vertical-align: middle;\n",
              "    }\n",
              "\n",
              "    .dataframe tbody tr th {\n",
              "        vertical-align: top;\n",
              "    }\n",
              "\n",
              "    .dataframe thead th {\n",
              "        text-align: right;\n",
              "    }\n",
              "</style>\n",
              "<table border=\"1\" class=\"dataframe\">\n",
              "  <thead>\n",
              "    <tr style=\"text-align: right;\">\n",
              "      <th></th>\n",
              "      <th>title</th>\n",
              "      <th>text</th>\n",
              "      <th>subject</th>\n",
              "      <th>date</th>\n",
              "    </tr>\n",
              "  </thead>\n",
              "  <tbody>\n",
              "    <tr>\n",
              "      <th>0</th>\n",
              "      <td>As U.S. budget fight looms, Republicans flip t...</td>\n",
              "      <td>WASHINGTON (Reuters) - The head of a conservat...</td>\n",
              "      <td>politicsNews</td>\n",
              "      <td>December 31, 2017</td>\n",
              "    </tr>\n",
              "    <tr>\n",
              "      <th>1</th>\n",
              "      <td>U.S. military to accept transgender recruits o...</td>\n",
              "      <td>WASHINGTON (Reuters) - Transgender people will...</td>\n",
              "      <td>politicsNews</td>\n",
              "      <td>December 29, 2017</td>\n",
              "    </tr>\n",
              "    <tr>\n",
              "      <th>2</th>\n",
              "      <td>Senior U.S. Republican senator: 'Let Mr. Muell...</td>\n",
              "      <td>WASHINGTON (Reuters) - The special counsel inv...</td>\n",
              "      <td>politicsNews</td>\n",
              "      <td>December 31, 2017</td>\n",
              "    </tr>\n",
              "    <tr>\n",
              "      <th>3</th>\n",
              "      <td>FBI Russia probe helped by Australian diplomat...</td>\n",
              "      <td>WASHINGTON (Reuters) - Trump campaign adviser ...</td>\n",
              "      <td>politicsNews</td>\n",
              "      <td>December 30, 2017</td>\n",
              "    </tr>\n",
              "    <tr>\n",
              "      <th>4</th>\n",
              "      <td>Trump wants Postal Service to charge 'much mor...</td>\n",
              "      <td>SEATTLE/WASHINGTON (Reuters) - President Donal...</td>\n",
              "      <td>politicsNews</td>\n",
              "      <td>December 29, 2017</td>\n",
              "    </tr>\n",
              "  </tbody>\n",
              "</table>\n",
              "</div>"
            ],
            "text/plain": [
              "                                               title  \\\n",
              "0  As U.S. budget fight looms, Republicans flip t...   \n",
              "1  U.S. military to accept transgender recruits o...   \n",
              "2  Senior U.S. Republican senator: 'Let Mr. Muell...   \n",
              "3  FBI Russia probe helped by Australian diplomat...   \n",
              "4  Trump wants Postal Service to charge 'much mor...   \n",
              "\n",
              "                                                text       subject  \\\n",
              "0  WASHINGTON (Reuters) - The head of a conservat...  politicsNews   \n",
              "1  WASHINGTON (Reuters) - Transgender people will...  politicsNews   \n",
              "2  WASHINGTON (Reuters) - The special counsel inv...  politicsNews   \n",
              "3  WASHINGTON (Reuters) - Trump campaign adviser ...  politicsNews   \n",
              "4  SEATTLE/WASHINGTON (Reuters) - President Donal...  politicsNews   \n",
              "\n",
              "                 date  \n",
              "0  December 31, 2017   \n",
              "1  December 29, 2017   \n",
              "2  December 31, 2017   \n",
              "3  December 30, 2017   \n",
              "4  December 29, 2017   "
            ]
          },
          "execution_count": 118,
          "metadata": {},
          "output_type": "execute_result"
        }
      ]
    },
    {
      "cell_type": "code",
      "metadata": {
        "id": "TXYbAxUrpwVT",
        "outputId": "8c4be443-7932-470a-ae7d-da08646607a4"
      },
      "source": [
        "#checking the shape of the dataset\n",
        "df_true.shape"
      ],
      "execution_count": null,
      "outputs": [
        {
          "data": {
            "text/plain": [
              "(21417, 4)"
            ]
          },
          "execution_count": 119,
          "metadata": {},
          "output_type": "execute_result"
        }
      ]
    },
    {
      "cell_type": "code",
      "metadata": {
        "id": "32FT3sgspwVU",
        "outputId": "cebcdb35-650c-4d82-a351-24af40724fb3"
      },
      "source": [
        "#checking the info to confirm if there are null values.\n",
        "df_true.info()"
      ],
      "execution_count": null,
      "outputs": [
        {
          "name": "stdout",
          "output_type": "stream",
          "text": [
            "<class 'pandas.core.frame.DataFrame'>\n",
            "RangeIndex: 21417 entries, 0 to 21416\n",
            "Data columns (total 4 columns):\n",
            " #   Column   Non-Null Count  Dtype \n",
            "---  ------   --------------  ----- \n",
            " 0   title    21417 non-null  object\n",
            " 1   text     21417 non-null  object\n",
            " 2   subject  21417 non-null  object\n",
            " 3   date     21417 non-null  object\n",
            "dtypes: object(4)\n",
            "memory usage: 669.4+ KB\n"
          ]
        }
      ]
    },
    {
      "cell_type": "code",
      "metadata": {
        "id": "PLv6g_GupwVV"
      },
      "source": [
        "#loading the secovd dataset that contains the false news\n",
        "df_fake = pd.read_csv(\"Fake.csv\")"
      ],
      "execution_count": null,
      "outputs": []
    },
    {
      "cell_type": "code",
      "metadata": {
        "id": "M1_z03_BpwVW",
        "outputId": "e22d7dd7-3fce-4bd0-bf73-9cbab0889ed8"
      },
      "source": [
        "#checking the head of the fake news dataset\n",
        "df_fake.head()"
      ],
      "execution_count": null,
      "outputs": [
        {
          "data": {
            "text/html": [
              "<div>\n",
              "<style scoped>\n",
              "    .dataframe tbody tr th:only-of-type {\n",
              "        vertical-align: middle;\n",
              "    }\n",
              "\n",
              "    .dataframe tbody tr th {\n",
              "        vertical-align: top;\n",
              "    }\n",
              "\n",
              "    .dataframe thead th {\n",
              "        text-align: right;\n",
              "    }\n",
              "</style>\n",
              "<table border=\"1\" class=\"dataframe\">\n",
              "  <thead>\n",
              "    <tr style=\"text-align: right;\">\n",
              "      <th></th>\n",
              "      <th>title</th>\n",
              "      <th>text</th>\n",
              "      <th>subject</th>\n",
              "      <th>date</th>\n",
              "    </tr>\n",
              "  </thead>\n",
              "  <tbody>\n",
              "    <tr>\n",
              "      <th>0</th>\n",
              "      <td>Donald Trump Sends Out Embarrassing New Year’...</td>\n",
              "      <td>Donald Trump just couldn t wish all Americans ...</td>\n",
              "      <td>News</td>\n",
              "      <td>December 31, 2017</td>\n",
              "    </tr>\n",
              "    <tr>\n",
              "      <th>1</th>\n",
              "      <td>Drunk Bragging Trump Staffer Started Russian ...</td>\n",
              "      <td>House Intelligence Committee Chairman Devin Nu...</td>\n",
              "      <td>News</td>\n",
              "      <td>December 31, 2017</td>\n",
              "    </tr>\n",
              "    <tr>\n",
              "      <th>2</th>\n",
              "      <td>Sheriff David Clarke Becomes An Internet Joke...</td>\n",
              "      <td>On Friday, it was revealed that former Milwauk...</td>\n",
              "      <td>News</td>\n",
              "      <td>December 30, 2017</td>\n",
              "    </tr>\n",
              "    <tr>\n",
              "      <th>3</th>\n",
              "      <td>Trump Is So Obsessed He Even Has Obama’s Name...</td>\n",
              "      <td>On Christmas day, Donald Trump announced that ...</td>\n",
              "      <td>News</td>\n",
              "      <td>December 29, 2017</td>\n",
              "    </tr>\n",
              "    <tr>\n",
              "      <th>4</th>\n",
              "      <td>Pope Francis Just Called Out Donald Trump Dur...</td>\n",
              "      <td>Pope Francis used his annual Christmas Day mes...</td>\n",
              "      <td>News</td>\n",
              "      <td>December 25, 2017</td>\n",
              "    </tr>\n",
              "  </tbody>\n",
              "</table>\n",
              "</div>"
            ],
            "text/plain": [
              "                                               title  \\\n",
              "0   Donald Trump Sends Out Embarrassing New Year’...   \n",
              "1   Drunk Bragging Trump Staffer Started Russian ...   \n",
              "2   Sheriff David Clarke Becomes An Internet Joke...   \n",
              "3   Trump Is So Obsessed He Even Has Obama’s Name...   \n",
              "4   Pope Francis Just Called Out Donald Trump Dur...   \n",
              "\n",
              "                                                text subject  \\\n",
              "0  Donald Trump just couldn t wish all Americans ...    News   \n",
              "1  House Intelligence Committee Chairman Devin Nu...    News   \n",
              "2  On Friday, it was revealed that former Milwauk...    News   \n",
              "3  On Christmas day, Donald Trump announced that ...    News   \n",
              "4  Pope Francis used his annual Christmas Day mes...    News   \n",
              "\n",
              "                date  \n",
              "0  December 31, 2017  \n",
              "1  December 31, 2017  \n",
              "2  December 30, 2017  \n",
              "3  December 29, 2017  \n",
              "4  December 25, 2017  "
            ]
          },
          "execution_count": 122,
          "metadata": {},
          "output_type": "execute_result"
        }
      ]
    },
    {
      "cell_type": "code",
      "metadata": {
        "id": "3Ldzvb-vpwVX",
        "outputId": "b0d074b8-6ce6-4a5b-a8ab-58f914634bfc"
      },
      "source": [
        "#checking the shape of the fake news data set\n",
        "df_fake.shape"
      ],
      "execution_count": null,
      "outputs": [
        {
          "data": {
            "text/plain": [
              "(23481, 4)"
            ]
          },
          "execution_count": 123,
          "metadata": {},
          "output_type": "execute_result"
        }
      ]
    },
    {
      "cell_type": "code",
      "metadata": {
        "id": "xuNyYZbmpwVY",
        "outputId": "b930dbba-1558-4c50-a017-124f978db113"
      },
      "source": [
        "#checking the info to confirm if there are null values.\n",
        "df_fake.info() "
      ],
      "execution_count": null,
      "outputs": [
        {
          "name": "stdout",
          "output_type": "stream",
          "text": [
            "<class 'pandas.core.frame.DataFrame'>\n",
            "RangeIndex: 23481 entries, 0 to 23480\n",
            "Data columns (total 4 columns):\n",
            " #   Column   Non-Null Count  Dtype \n",
            "---  ------   --------------  ----- \n",
            " 0   title    23481 non-null  object\n",
            " 1   text     23481 non-null  object\n",
            " 2   subject  23481 non-null  object\n",
            " 3   date     23481 non-null  object\n",
            "dtypes: object(4)\n",
            "memory usage: 733.9+ KB\n"
          ]
        }
      ]
    },
    {
      "cell_type": "code",
      "metadata": {
        "id": "7xWmNSlVpwVZ",
        "outputId": "93448271-5eba-46a4-d46f-030c45c1fcd5"
      },
      "source": [
        "df_fake.isna().sum()\n",
        "#no missing values"
      ],
      "execution_count": null,
      "outputs": [
        {
          "data": {
            "text/plain": [
              "title      0\n",
              "text       0\n",
              "subject    0\n",
              "date       0\n",
              "dtype: int64"
            ]
          },
          "execution_count": 125,
          "metadata": {},
          "output_type": "execute_result"
        }
      ]
    },
    {
      "cell_type": "code",
      "metadata": {
        "id": "UMMgHJEOpwVa"
      },
      "source": [
        "#Introducing a new column to the two that sets\n",
        "df_true[\"True/Fake\"] = \"True\"\n",
        "df_fake[\"True/Fake\"] = \"Fake\"\n",
        "\n",
        "#the data sets did not contain any column for the target variables, hence the need to introduce the new column."
      ],
      "execution_count": null,
      "outputs": []
    },
    {
      "cell_type": "code",
      "metadata": {
        "id": "Up0eCW2jpwVb",
        "outputId": "e47ed686-20cf-4477-a050-c4ab17cce9b3"
      },
      "source": [
        "#checking to affirm that the new column \"True/Fake\" has been added.\n",
        "df_true.head()"
      ],
      "execution_count": null,
      "outputs": [
        {
          "data": {
            "text/html": [
              "<div>\n",
              "<style scoped>\n",
              "    .dataframe tbody tr th:only-of-type {\n",
              "        vertical-align: middle;\n",
              "    }\n",
              "\n",
              "    .dataframe tbody tr th {\n",
              "        vertical-align: top;\n",
              "    }\n",
              "\n",
              "    .dataframe thead th {\n",
              "        text-align: right;\n",
              "    }\n",
              "</style>\n",
              "<table border=\"1\" class=\"dataframe\">\n",
              "  <thead>\n",
              "    <tr style=\"text-align: right;\">\n",
              "      <th></th>\n",
              "      <th>title</th>\n",
              "      <th>text</th>\n",
              "      <th>subject</th>\n",
              "      <th>date</th>\n",
              "      <th>True/Fake</th>\n",
              "    </tr>\n",
              "  </thead>\n",
              "  <tbody>\n",
              "    <tr>\n",
              "      <th>0</th>\n",
              "      <td>As U.S. budget fight looms, Republicans flip t...</td>\n",
              "      <td>WASHINGTON (Reuters) - The head of a conservat...</td>\n",
              "      <td>politicsNews</td>\n",
              "      <td>December 31, 2017</td>\n",
              "      <td>True</td>\n",
              "    </tr>\n",
              "    <tr>\n",
              "      <th>1</th>\n",
              "      <td>U.S. military to accept transgender recruits o...</td>\n",
              "      <td>WASHINGTON (Reuters) - Transgender people will...</td>\n",
              "      <td>politicsNews</td>\n",
              "      <td>December 29, 2017</td>\n",
              "      <td>True</td>\n",
              "    </tr>\n",
              "    <tr>\n",
              "      <th>2</th>\n",
              "      <td>Senior U.S. Republican senator: 'Let Mr. Muell...</td>\n",
              "      <td>WASHINGTON (Reuters) - The special counsel inv...</td>\n",
              "      <td>politicsNews</td>\n",
              "      <td>December 31, 2017</td>\n",
              "      <td>True</td>\n",
              "    </tr>\n",
              "    <tr>\n",
              "      <th>3</th>\n",
              "      <td>FBI Russia probe helped by Australian diplomat...</td>\n",
              "      <td>WASHINGTON (Reuters) - Trump campaign adviser ...</td>\n",
              "      <td>politicsNews</td>\n",
              "      <td>December 30, 2017</td>\n",
              "      <td>True</td>\n",
              "    </tr>\n",
              "    <tr>\n",
              "      <th>4</th>\n",
              "      <td>Trump wants Postal Service to charge 'much mor...</td>\n",
              "      <td>SEATTLE/WASHINGTON (Reuters) - President Donal...</td>\n",
              "      <td>politicsNews</td>\n",
              "      <td>December 29, 2017</td>\n",
              "      <td>True</td>\n",
              "    </tr>\n",
              "  </tbody>\n",
              "</table>\n",
              "</div>"
            ],
            "text/plain": [
              "                                               title  \\\n",
              "0  As U.S. budget fight looms, Republicans flip t...   \n",
              "1  U.S. military to accept transgender recruits o...   \n",
              "2  Senior U.S. Republican senator: 'Let Mr. Muell...   \n",
              "3  FBI Russia probe helped by Australian diplomat...   \n",
              "4  Trump wants Postal Service to charge 'much mor...   \n",
              "\n",
              "                                                text       subject  \\\n",
              "0  WASHINGTON (Reuters) - The head of a conservat...  politicsNews   \n",
              "1  WASHINGTON (Reuters) - Transgender people will...  politicsNews   \n",
              "2  WASHINGTON (Reuters) - The special counsel inv...  politicsNews   \n",
              "3  WASHINGTON (Reuters) - Trump campaign adviser ...  politicsNews   \n",
              "4  SEATTLE/WASHINGTON (Reuters) - President Donal...  politicsNews   \n",
              "\n",
              "                 date True/Fake  \n",
              "0  December 31, 2017       True  \n",
              "1  December 29, 2017       True  \n",
              "2  December 31, 2017       True  \n",
              "3  December 30, 2017       True  \n",
              "4  December 29, 2017       True  "
            ]
          },
          "execution_count": 127,
          "metadata": {},
          "output_type": "execute_result"
        }
      ]
    },
    {
      "cell_type": "code",
      "metadata": {
        "id": "nKF1PL2XpwVc",
        "outputId": "69715be2-1a68-455b-f297-39e7994e471d"
      },
      "source": [
        "#checking to affirm that the new column \"True/Fake\" has been added.\n",
        "df_fake.tail()"
      ],
      "execution_count": null,
      "outputs": [
        {
          "data": {
            "text/html": [
              "<div>\n",
              "<style scoped>\n",
              "    .dataframe tbody tr th:only-of-type {\n",
              "        vertical-align: middle;\n",
              "    }\n",
              "\n",
              "    .dataframe tbody tr th {\n",
              "        vertical-align: top;\n",
              "    }\n",
              "\n",
              "    .dataframe thead th {\n",
              "        text-align: right;\n",
              "    }\n",
              "</style>\n",
              "<table border=\"1\" class=\"dataframe\">\n",
              "  <thead>\n",
              "    <tr style=\"text-align: right;\">\n",
              "      <th></th>\n",
              "      <th>title</th>\n",
              "      <th>text</th>\n",
              "      <th>subject</th>\n",
              "      <th>date</th>\n",
              "      <th>True/Fake</th>\n",
              "    </tr>\n",
              "  </thead>\n",
              "  <tbody>\n",
              "    <tr>\n",
              "      <th>23476</th>\n",
              "      <td>McPain: John McCain Furious That Iran Treated ...</td>\n",
              "      <td>21st Century Wire says As 21WIRE reported earl...</td>\n",
              "      <td>Middle-east</td>\n",
              "      <td>January 16, 2016</td>\n",
              "      <td>Fake</td>\n",
              "    </tr>\n",
              "    <tr>\n",
              "      <th>23477</th>\n",
              "      <td>JUSTICE? Yahoo Settles E-mail Privacy Class-ac...</td>\n",
              "      <td>21st Century Wire says It s a familiar theme. ...</td>\n",
              "      <td>Middle-east</td>\n",
              "      <td>January 16, 2016</td>\n",
              "      <td>Fake</td>\n",
              "    </tr>\n",
              "    <tr>\n",
              "      <th>23478</th>\n",
              "      <td>Sunnistan: US and Allied ‘Safe Zone’ Plan to T...</td>\n",
              "      <td>Patrick Henningsen  21st Century WireRemember ...</td>\n",
              "      <td>Middle-east</td>\n",
              "      <td>January 15, 2016</td>\n",
              "      <td>Fake</td>\n",
              "    </tr>\n",
              "    <tr>\n",
              "      <th>23479</th>\n",
              "      <td>How to Blow $700 Million: Al Jazeera America F...</td>\n",
              "      <td>21st Century Wire says Al Jazeera America will...</td>\n",
              "      <td>Middle-east</td>\n",
              "      <td>January 14, 2016</td>\n",
              "      <td>Fake</td>\n",
              "    </tr>\n",
              "    <tr>\n",
              "      <th>23480</th>\n",
              "      <td>10 U.S. Navy Sailors Held by Iranian Military ...</td>\n",
              "      <td>21st Century Wire says As 21WIRE predicted in ...</td>\n",
              "      <td>Middle-east</td>\n",
              "      <td>January 12, 2016</td>\n",
              "      <td>Fake</td>\n",
              "    </tr>\n",
              "  </tbody>\n",
              "</table>\n",
              "</div>"
            ],
            "text/plain": [
              "                                                   title  \\\n",
              "23476  McPain: John McCain Furious That Iran Treated ...   \n",
              "23477  JUSTICE? Yahoo Settles E-mail Privacy Class-ac...   \n",
              "23478  Sunnistan: US and Allied ‘Safe Zone’ Plan to T...   \n",
              "23479  How to Blow $700 Million: Al Jazeera America F...   \n",
              "23480  10 U.S. Navy Sailors Held by Iranian Military ...   \n",
              "\n",
              "                                                    text      subject  \\\n",
              "23476  21st Century Wire says As 21WIRE reported earl...  Middle-east   \n",
              "23477  21st Century Wire says It s a familiar theme. ...  Middle-east   \n",
              "23478  Patrick Henningsen  21st Century WireRemember ...  Middle-east   \n",
              "23479  21st Century Wire says Al Jazeera America will...  Middle-east   \n",
              "23480  21st Century Wire says As 21WIRE predicted in ...  Middle-east   \n",
              "\n",
              "                   date True/Fake  \n",
              "23476  January 16, 2016      Fake  \n",
              "23477  January 16, 2016      Fake  \n",
              "23478  January 15, 2016      Fake  \n",
              "23479  January 14, 2016      Fake  \n",
              "23480  January 12, 2016      Fake  "
            ]
          },
          "execution_count": 128,
          "metadata": {},
          "output_type": "execute_result"
        }
      ]
    },
    {
      "cell_type": "code",
      "metadata": {
        "id": "NLePUj_cpwVd"
      },
      "source": [
        "#concating both datasets (df_true) & (\"df_fake\") to get a single dataset\n",
        "df_news = pd.concat([df_true, df_fake])"
      ],
      "execution_count": null,
      "outputs": []
    },
    {
      "cell_type": "code",
      "metadata": {
        "id": "N8bzDrb_pwVd",
        "outputId": "10238406-43c1-4532-ec88-f57851803d5d"
      },
      "source": [
        "#checking the head of the news dataset that contains the now contains the two previous datasets \"df_true\" & \"df_fake\"\n",
        "df_news.head()"
      ],
      "execution_count": null,
      "outputs": [
        {
          "data": {
            "text/html": [
              "<div>\n",
              "<style scoped>\n",
              "    .dataframe tbody tr th:only-of-type {\n",
              "        vertical-align: middle;\n",
              "    }\n",
              "\n",
              "    .dataframe tbody tr th {\n",
              "        vertical-align: top;\n",
              "    }\n",
              "\n",
              "    .dataframe thead th {\n",
              "        text-align: right;\n",
              "    }\n",
              "</style>\n",
              "<table border=\"1\" class=\"dataframe\">\n",
              "  <thead>\n",
              "    <tr style=\"text-align: right;\">\n",
              "      <th></th>\n",
              "      <th>title</th>\n",
              "      <th>text</th>\n",
              "      <th>subject</th>\n",
              "      <th>date</th>\n",
              "      <th>True/Fake</th>\n",
              "    </tr>\n",
              "  </thead>\n",
              "  <tbody>\n",
              "    <tr>\n",
              "      <th>0</th>\n",
              "      <td>As U.S. budget fight looms, Republicans flip t...</td>\n",
              "      <td>WASHINGTON (Reuters) - The head of a conservat...</td>\n",
              "      <td>politicsNews</td>\n",
              "      <td>December 31, 2017</td>\n",
              "      <td>True</td>\n",
              "    </tr>\n",
              "    <tr>\n",
              "      <th>1</th>\n",
              "      <td>U.S. military to accept transgender recruits o...</td>\n",
              "      <td>WASHINGTON (Reuters) - Transgender people will...</td>\n",
              "      <td>politicsNews</td>\n",
              "      <td>December 29, 2017</td>\n",
              "      <td>True</td>\n",
              "    </tr>\n",
              "    <tr>\n",
              "      <th>2</th>\n",
              "      <td>Senior U.S. Republican senator: 'Let Mr. Muell...</td>\n",
              "      <td>WASHINGTON (Reuters) - The special counsel inv...</td>\n",
              "      <td>politicsNews</td>\n",
              "      <td>December 31, 2017</td>\n",
              "      <td>True</td>\n",
              "    </tr>\n",
              "    <tr>\n",
              "      <th>3</th>\n",
              "      <td>FBI Russia probe helped by Australian diplomat...</td>\n",
              "      <td>WASHINGTON (Reuters) - Trump campaign adviser ...</td>\n",
              "      <td>politicsNews</td>\n",
              "      <td>December 30, 2017</td>\n",
              "      <td>True</td>\n",
              "    </tr>\n",
              "    <tr>\n",
              "      <th>4</th>\n",
              "      <td>Trump wants Postal Service to charge 'much mor...</td>\n",
              "      <td>SEATTLE/WASHINGTON (Reuters) - President Donal...</td>\n",
              "      <td>politicsNews</td>\n",
              "      <td>December 29, 2017</td>\n",
              "      <td>True</td>\n",
              "    </tr>\n",
              "  </tbody>\n",
              "</table>\n",
              "</div>"
            ],
            "text/plain": [
              "                                               title  \\\n",
              "0  As U.S. budget fight looms, Republicans flip t...   \n",
              "1  U.S. military to accept transgender recruits o...   \n",
              "2  Senior U.S. Republican senator: 'Let Mr. Muell...   \n",
              "3  FBI Russia probe helped by Australian diplomat...   \n",
              "4  Trump wants Postal Service to charge 'much mor...   \n",
              "\n",
              "                                                text       subject  \\\n",
              "0  WASHINGTON (Reuters) - The head of a conservat...  politicsNews   \n",
              "1  WASHINGTON (Reuters) - Transgender people will...  politicsNews   \n",
              "2  WASHINGTON (Reuters) - The special counsel inv...  politicsNews   \n",
              "3  WASHINGTON (Reuters) - Trump campaign adviser ...  politicsNews   \n",
              "4  SEATTLE/WASHINGTON (Reuters) - President Donal...  politicsNews   \n",
              "\n",
              "                 date True/Fake  \n",
              "0  December 31, 2017       True  \n",
              "1  December 29, 2017       True  \n",
              "2  December 31, 2017       True  \n",
              "3  December 30, 2017       True  \n",
              "4  December 29, 2017       True  "
            ]
          },
          "execution_count": 130,
          "metadata": {},
          "output_type": "execute_result"
        }
      ]
    },
    {
      "cell_type": "code",
      "metadata": {
        "id": "qg621KfnpwVe",
        "outputId": "6c89bc64-436c-4382-be6a-70f6ef9a69d7"
      },
      "source": [
        "#shuffling the \"df_news\" dataset to ensure that we don't have Fake/True lined up together.\n",
        "df_news = shuffle(df_news)\n",
        "df_news.head()"
      ],
      "execution_count": null,
      "outputs": [
        {
          "data": {
            "text/html": [
              "<div>\n",
              "<style scoped>\n",
              "    .dataframe tbody tr th:only-of-type {\n",
              "        vertical-align: middle;\n",
              "    }\n",
              "\n",
              "    .dataframe tbody tr th {\n",
              "        vertical-align: top;\n",
              "    }\n",
              "\n",
              "    .dataframe thead th {\n",
              "        text-align: right;\n",
              "    }\n",
              "</style>\n",
              "<table border=\"1\" class=\"dataframe\">\n",
              "  <thead>\n",
              "    <tr style=\"text-align: right;\">\n",
              "      <th></th>\n",
              "      <th>title</th>\n",
              "      <th>text</th>\n",
              "      <th>subject</th>\n",
              "      <th>date</th>\n",
              "      <th>True/Fake</th>\n",
              "    </tr>\n",
              "  </thead>\n",
              "  <tbody>\n",
              "    <tr>\n",
              "      <th>22010</th>\n",
              "      <td>Message for Progressive Left: ‘If You Want to ...</td>\n",
              "      <td>Ever since last month, the US media and the le...</td>\n",
              "      <td>US_News</td>\n",
              "      <td>September 5, 2017</td>\n",
              "      <td>Fake</td>\n",
              "    </tr>\n",
              "    <tr>\n",
              "      <th>1428</th>\n",
              "      <td>It’s Happening: Justice Department Appoints S...</td>\n",
              "      <td>After the nation joined together and demanded ...</td>\n",
              "      <td>News</td>\n",
              "      <td>May 17, 2017</td>\n",
              "      <td>Fake</td>\n",
              "    </tr>\n",
              "    <tr>\n",
              "      <th>7054</th>\n",
              "      <td>Sander’s Campaign Manager Literally Stole An ...</td>\n",
              "      <td>In what seems to be another misspeak moment fo...</td>\n",
              "      <td>News</td>\n",
              "      <td>April 6, 2016</td>\n",
              "      <td>Fake</td>\n",
              "    </tr>\n",
              "    <tr>\n",
              "      <th>8579</th>\n",
              "      <td>White High-Schoolers Break The Internet With ...</td>\n",
              "      <td>A group of seniors from Desert Vista High Scho...</td>\n",
              "      <td>News</td>\n",
              "      <td>January 23, 2016</td>\n",
              "      <td>Fake</td>\n",
              "    </tr>\n",
              "    <tr>\n",
              "      <th>20712</th>\n",
              "      <td>WATCH: LITTLE HOUSE ON PRAIRIE ACTRESS Runs Fo...</td>\n",
              "      <td>America has proven time and time again that li...</td>\n",
              "      <td>left-news</td>\n",
              "      <td>Apr 19, 2016</td>\n",
              "      <td>Fake</td>\n",
              "    </tr>\n",
              "  </tbody>\n",
              "</table>\n",
              "</div>"
            ],
            "text/plain": [
              "                                                   title  \\\n",
              "22010  Message for Progressive Left: ‘If You Want to ...   \n",
              "1428    It’s Happening: Justice Department Appoints S...   \n",
              "7054    Sander’s Campaign Manager Literally Stole An ...   \n",
              "8579    White High-Schoolers Break The Internet With ...   \n",
              "20712  WATCH: LITTLE HOUSE ON PRAIRIE ACTRESS Runs Fo...   \n",
              "\n",
              "                                                    text    subject  \\\n",
              "22010  Ever since last month, the US media and the le...    US_News   \n",
              "1428   After the nation joined together and demanded ...       News   \n",
              "7054   In what seems to be another misspeak moment fo...       News   \n",
              "8579   A group of seniors from Desert Vista High Scho...       News   \n",
              "20712  America has proven time and time again that li...  left-news   \n",
              "\n",
              "                    date True/Fake  \n",
              "22010  September 5, 2017      Fake  \n",
              "1428        May 17, 2017      Fake  \n",
              "7054       April 6, 2016      Fake  \n",
              "8579    January 23, 2016      Fake  \n",
              "20712       Apr 19, 2016      Fake  "
            ]
          },
          "execution_count": 131,
          "metadata": {},
          "output_type": "execute_result"
        }
      ]
    },
    {
      "cell_type": "code",
      "metadata": {
        "id": "lsByeKazpwVe"
      },
      "source": [
        "#droping the \"date\" column, it's not relevant to our prediction\n",
        "df_news.drop(\"date\", inplace = True, axis = 1)"
      ],
      "execution_count": null,
      "outputs": []
    },
    {
      "cell_type": "code",
      "metadata": {
        "id": "R-2udW1ipwVf",
        "outputId": "9be65767-bc59-44c5-936b-fb23d90ac9f0"
      },
      "source": [
        "#checking to affirm the drop\n",
        "df_news.head()"
      ],
      "execution_count": null,
      "outputs": [
        {
          "data": {
            "text/html": [
              "<div>\n",
              "<style scoped>\n",
              "    .dataframe tbody tr th:only-of-type {\n",
              "        vertical-align: middle;\n",
              "    }\n",
              "\n",
              "    .dataframe tbody tr th {\n",
              "        vertical-align: top;\n",
              "    }\n",
              "\n",
              "    .dataframe thead th {\n",
              "        text-align: right;\n",
              "    }\n",
              "</style>\n",
              "<table border=\"1\" class=\"dataframe\">\n",
              "  <thead>\n",
              "    <tr style=\"text-align: right;\">\n",
              "      <th></th>\n",
              "      <th>title</th>\n",
              "      <th>text</th>\n",
              "      <th>subject</th>\n",
              "      <th>True/Fake</th>\n",
              "    </tr>\n",
              "  </thead>\n",
              "  <tbody>\n",
              "    <tr>\n",
              "      <th>22010</th>\n",
              "      <td>Message for Progressive Left: ‘If You Want to ...</td>\n",
              "      <td>Ever since last month, the US media and the le...</td>\n",
              "      <td>US_News</td>\n",
              "      <td>Fake</td>\n",
              "    </tr>\n",
              "    <tr>\n",
              "      <th>1428</th>\n",
              "      <td>It’s Happening: Justice Department Appoints S...</td>\n",
              "      <td>After the nation joined together and demanded ...</td>\n",
              "      <td>News</td>\n",
              "      <td>Fake</td>\n",
              "    </tr>\n",
              "    <tr>\n",
              "      <th>7054</th>\n",
              "      <td>Sander’s Campaign Manager Literally Stole An ...</td>\n",
              "      <td>In what seems to be another misspeak moment fo...</td>\n",
              "      <td>News</td>\n",
              "      <td>Fake</td>\n",
              "    </tr>\n",
              "    <tr>\n",
              "      <th>8579</th>\n",
              "      <td>White High-Schoolers Break The Internet With ...</td>\n",
              "      <td>A group of seniors from Desert Vista High Scho...</td>\n",
              "      <td>News</td>\n",
              "      <td>Fake</td>\n",
              "    </tr>\n",
              "    <tr>\n",
              "      <th>20712</th>\n",
              "      <td>WATCH: LITTLE HOUSE ON PRAIRIE ACTRESS Runs Fo...</td>\n",
              "      <td>America has proven time and time again that li...</td>\n",
              "      <td>left-news</td>\n",
              "      <td>Fake</td>\n",
              "    </tr>\n",
              "  </tbody>\n",
              "</table>\n",
              "</div>"
            ],
            "text/plain": [
              "                                                   title  \\\n",
              "22010  Message for Progressive Left: ‘If You Want to ...   \n",
              "1428    It’s Happening: Justice Department Appoints S...   \n",
              "7054    Sander’s Campaign Manager Literally Stole An ...   \n",
              "8579    White High-Schoolers Break The Internet With ...   \n",
              "20712  WATCH: LITTLE HOUSE ON PRAIRIE ACTRESS Runs Fo...   \n",
              "\n",
              "                                                    text    subject True/Fake  \n",
              "22010  Ever since last month, the US media and the le...    US_News      Fake  \n",
              "1428   After the nation joined together and demanded ...       News      Fake  \n",
              "7054   In what seems to be another misspeak moment fo...       News      Fake  \n",
              "8579   A group of seniors from Desert Vista High Scho...       News      Fake  \n",
              "20712  America has proven time and time again that li...  left-news      Fake  "
            ]
          },
          "execution_count": 133,
          "metadata": {},
          "output_type": "execute_result"
        }
      ]
    },
    {
      "cell_type": "code",
      "metadata": {
        "id": "wZbCj447pwVf",
        "outputId": "a3332250-f0e3-4f03-df68-fe469ae511b9"
      },
      "source": [
        "#adding a new column called \"article\". This column is a combination of columns \"title\" and \"text\"\n",
        "df_news[\"articles\"] = df_news.title + df_news.text\n",
        "df_news.head()"
      ],
      "execution_count": null,
      "outputs": [
        {
          "data": {
            "text/html": [
              "<div>\n",
              "<style scoped>\n",
              "    .dataframe tbody tr th:only-of-type {\n",
              "        vertical-align: middle;\n",
              "    }\n",
              "\n",
              "    .dataframe tbody tr th {\n",
              "        vertical-align: top;\n",
              "    }\n",
              "\n",
              "    .dataframe thead th {\n",
              "        text-align: right;\n",
              "    }\n",
              "</style>\n",
              "<table border=\"1\" class=\"dataframe\">\n",
              "  <thead>\n",
              "    <tr style=\"text-align: right;\">\n",
              "      <th></th>\n",
              "      <th>title</th>\n",
              "      <th>text</th>\n",
              "      <th>subject</th>\n",
              "      <th>True/Fake</th>\n",
              "      <th>articles</th>\n",
              "    </tr>\n",
              "  </thead>\n",
              "  <tbody>\n",
              "    <tr>\n",
              "      <th>22010</th>\n",
              "      <td>Message for Progressive Left: ‘If You Want to ...</td>\n",
              "      <td>Ever since last month, the US media and the le...</td>\n",
              "      <td>US_News</td>\n",
              "      <td>Fake</td>\n",
              "      <td>Message for Progressive Left: ‘If You Want to ...</td>\n",
              "    </tr>\n",
              "    <tr>\n",
              "      <th>1428</th>\n",
              "      <td>It’s Happening: Justice Department Appoints S...</td>\n",
              "      <td>After the nation joined together and demanded ...</td>\n",
              "      <td>News</td>\n",
              "      <td>Fake</td>\n",
              "      <td>It’s Happening: Justice Department Appoints S...</td>\n",
              "    </tr>\n",
              "    <tr>\n",
              "      <th>7054</th>\n",
              "      <td>Sander’s Campaign Manager Literally Stole An ...</td>\n",
              "      <td>In what seems to be another misspeak moment fo...</td>\n",
              "      <td>News</td>\n",
              "      <td>Fake</td>\n",
              "      <td>Sander’s Campaign Manager Literally Stole An ...</td>\n",
              "    </tr>\n",
              "    <tr>\n",
              "      <th>8579</th>\n",
              "      <td>White High-Schoolers Break The Internet With ...</td>\n",
              "      <td>A group of seniors from Desert Vista High Scho...</td>\n",
              "      <td>News</td>\n",
              "      <td>Fake</td>\n",
              "      <td>White High-Schoolers Break The Internet With ...</td>\n",
              "    </tr>\n",
              "    <tr>\n",
              "      <th>20712</th>\n",
              "      <td>WATCH: LITTLE HOUSE ON PRAIRIE ACTRESS Runs Fo...</td>\n",
              "      <td>America has proven time and time again that li...</td>\n",
              "      <td>left-news</td>\n",
              "      <td>Fake</td>\n",
              "      <td>WATCH: LITTLE HOUSE ON PRAIRIE ACTRESS Runs Fo...</td>\n",
              "    </tr>\n",
              "  </tbody>\n",
              "</table>\n",
              "</div>"
            ],
            "text/plain": [
              "                                                   title  \\\n",
              "22010  Message for Progressive Left: ‘If You Want to ...   \n",
              "1428    It’s Happening: Justice Department Appoints S...   \n",
              "7054    Sander’s Campaign Manager Literally Stole An ...   \n",
              "8579    White High-Schoolers Break The Internet With ...   \n",
              "20712  WATCH: LITTLE HOUSE ON PRAIRIE ACTRESS Runs Fo...   \n",
              "\n",
              "                                                    text    subject True/Fake  \\\n",
              "22010  Ever since last month, the US media and the le...    US_News      Fake   \n",
              "1428   After the nation joined together and demanded ...       News      Fake   \n",
              "7054   In what seems to be another misspeak moment fo...       News      Fake   \n",
              "8579   A group of seniors from Desert Vista High Scho...       News      Fake   \n",
              "20712  America has proven time and time again that li...  left-news      Fake   \n",
              "\n",
              "                                                articles  \n",
              "22010  Message for Progressive Left: ‘If You Want to ...  \n",
              "1428    It’s Happening: Justice Department Appoints S...  \n",
              "7054    Sander’s Campaign Manager Literally Stole An ...  \n",
              "8579    White High-Schoolers Break The Internet With ...  \n",
              "20712  WATCH: LITTLE HOUSE ON PRAIRIE ACTRESS Runs Fo...  "
            ]
          },
          "execution_count": 134,
          "metadata": {},
          "output_type": "execute_result"
        }
      ]
    },
    {
      "cell_type": "code",
      "metadata": {
        "id": "QAAyeNBHpwVg",
        "outputId": "40fe9ef0-6e5c-4aa0-aca0-c207dad43be2"
      },
      "source": [
        "#reordering columns\n",
        "df_news[[\"title\", \"text\", \"subject\", \"articles\", \"True/Fake\"]]"
      ],
      "execution_count": null,
      "outputs": [
        {
          "data": {
            "text/html": [
              "<div>\n",
              "<style scoped>\n",
              "    .dataframe tbody tr th:only-of-type {\n",
              "        vertical-align: middle;\n",
              "    }\n",
              "\n",
              "    .dataframe tbody tr th {\n",
              "        vertical-align: top;\n",
              "    }\n",
              "\n",
              "    .dataframe thead th {\n",
              "        text-align: right;\n",
              "    }\n",
              "</style>\n",
              "<table border=\"1\" class=\"dataframe\">\n",
              "  <thead>\n",
              "    <tr style=\"text-align: right;\">\n",
              "      <th></th>\n",
              "      <th>title</th>\n",
              "      <th>text</th>\n",
              "      <th>subject</th>\n",
              "      <th>articles</th>\n",
              "      <th>True/Fake</th>\n",
              "    </tr>\n",
              "  </thead>\n",
              "  <tbody>\n",
              "    <tr>\n",
              "      <th>22010</th>\n",
              "      <td>Message for Progressive Left: ‘If You Want to ...</td>\n",
              "      <td>Ever since last month, the US media and the le...</td>\n",
              "      <td>US_News</td>\n",
              "      <td>Message for Progressive Left: ‘If You Want to ...</td>\n",
              "      <td>Fake</td>\n",
              "    </tr>\n",
              "    <tr>\n",
              "      <th>1428</th>\n",
              "      <td>It’s Happening: Justice Department Appoints S...</td>\n",
              "      <td>After the nation joined together and demanded ...</td>\n",
              "      <td>News</td>\n",
              "      <td>It’s Happening: Justice Department Appoints S...</td>\n",
              "      <td>Fake</td>\n",
              "    </tr>\n",
              "    <tr>\n",
              "      <th>7054</th>\n",
              "      <td>Sander’s Campaign Manager Literally Stole An ...</td>\n",
              "      <td>In what seems to be another misspeak moment fo...</td>\n",
              "      <td>News</td>\n",
              "      <td>Sander’s Campaign Manager Literally Stole An ...</td>\n",
              "      <td>Fake</td>\n",
              "    </tr>\n",
              "    <tr>\n",
              "      <th>8579</th>\n",
              "      <td>White High-Schoolers Break The Internet With ...</td>\n",
              "      <td>A group of seniors from Desert Vista High Scho...</td>\n",
              "      <td>News</td>\n",
              "      <td>White High-Schoolers Break The Internet With ...</td>\n",
              "      <td>Fake</td>\n",
              "    </tr>\n",
              "    <tr>\n",
              "      <th>20712</th>\n",
              "      <td>WATCH: LITTLE HOUSE ON PRAIRIE ACTRESS Runs Fo...</td>\n",
              "      <td>America has proven time and time again that li...</td>\n",
              "      <td>left-news</td>\n",
              "      <td>WATCH: LITTLE HOUSE ON PRAIRIE ACTRESS Runs Fo...</td>\n",
              "      <td>Fake</td>\n",
              "    </tr>\n",
              "    <tr>\n",
              "      <th>...</th>\n",
              "      <td>...</td>\n",
              "      <td>...</td>\n",
              "      <td>...</td>\n",
              "      <td>...</td>\n",
              "      <td>...</td>\n",
              "    </tr>\n",
              "    <tr>\n",
              "      <th>12805</th>\n",
              "      <td>Saudi-backed fighters capture coastal area in ...</td>\n",
              "      <td>DUBAI (Reuters) - A Western-backed Saudi-led c...</td>\n",
              "      <td>worldnews</td>\n",
              "      <td>Saudi-backed fighters capture coastal area in ...</td>\n",
              "      <td>True</td>\n",
              "    </tr>\n",
              "    <tr>\n",
              "      <th>19100</th>\n",
              "      <td>Police investigating militants search Brussels...</td>\n",
              "      <td>BRUSSELS (Reuters) - Police searched eight hou...</td>\n",
              "      <td>worldnews</td>\n",
              "      <td>Police investigating militants search Brussels...</td>\n",
              "      <td>True</td>\n",
              "    </tr>\n",
              "    <tr>\n",
              "      <th>19035</th>\n",
              "      <td>Mattis says no tolerance for terrorist sanctua...</td>\n",
              "      <td>NEW DELHI (Reuters) - U.S. Defense Secretary J...</td>\n",
              "      <td>worldnews</td>\n",
              "      <td>Mattis says no tolerance for terrorist sanctua...</td>\n",
              "      <td>True</td>\n",
              "    </tr>\n",
              "    <tr>\n",
              "      <th>5866</th>\n",
              "      <td>Trump's heartland voters shrug off global upro...</td>\n",
              "      <td>(This version of the Jan 29 story has been co...</td>\n",
              "      <td>politicsNews</td>\n",
              "      <td>Trump's heartland voters shrug off global upro...</td>\n",
              "      <td>True</td>\n",
              "    </tr>\n",
              "    <tr>\n",
              "      <th>7267</th>\n",
              "      <td>North Korea does not care who is president of ...</td>\n",
              "      <td>UNITED NATIONS (Reuters) - North Korea does no...</td>\n",
              "      <td>politicsNews</td>\n",
              "      <td>North Korea does not care who is president of ...</td>\n",
              "      <td>True</td>\n",
              "    </tr>\n",
              "  </tbody>\n",
              "</table>\n",
              "<p>44898 rows × 5 columns</p>\n",
              "</div>"
            ],
            "text/plain": [
              "                                                   title  \\\n",
              "22010  Message for Progressive Left: ‘If You Want to ...   \n",
              "1428    It’s Happening: Justice Department Appoints S...   \n",
              "7054    Sander’s Campaign Manager Literally Stole An ...   \n",
              "8579    White High-Schoolers Break The Internet With ...   \n",
              "20712  WATCH: LITTLE HOUSE ON PRAIRIE ACTRESS Runs Fo...   \n",
              "...                                                  ...   \n",
              "12805  Saudi-backed fighters capture coastal area in ...   \n",
              "19100  Police investigating militants search Brussels...   \n",
              "19035  Mattis says no tolerance for terrorist sanctua...   \n",
              "5866   Trump's heartland voters shrug off global upro...   \n",
              "7267   North Korea does not care who is president of ...   \n",
              "\n",
              "                                                    text       subject  \\\n",
              "22010  Ever since last month, the US media and the le...       US_News   \n",
              "1428   After the nation joined together and demanded ...          News   \n",
              "7054   In what seems to be another misspeak moment fo...          News   \n",
              "8579   A group of seniors from Desert Vista High Scho...          News   \n",
              "20712  America has proven time and time again that li...     left-news   \n",
              "...                                                  ...           ...   \n",
              "12805  DUBAI (Reuters) - A Western-backed Saudi-led c...     worldnews   \n",
              "19100  BRUSSELS (Reuters) - Police searched eight hou...     worldnews   \n",
              "19035  NEW DELHI (Reuters) - U.S. Defense Secretary J...     worldnews   \n",
              "5866    (This version of the Jan 29 story has been co...  politicsNews   \n",
              "7267   UNITED NATIONS (Reuters) - North Korea does no...  politicsNews   \n",
              "\n",
              "                                                articles True/Fake  \n",
              "22010  Message for Progressive Left: ‘If You Want to ...      Fake  \n",
              "1428    It’s Happening: Justice Department Appoints S...      Fake  \n",
              "7054    Sander’s Campaign Manager Literally Stole An ...      Fake  \n",
              "8579    White High-Schoolers Break The Internet With ...      Fake  \n",
              "20712  WATCH: LITTLE HOUSE ON PRAIRIE ACTRESS Runs Fo...      Fake  \n",
              "...                                                  ...       ...  \n",
              "12805  Saudi-backed fighters capture coastal area in ...      True  \n",
              "19100  Police investigating militants search Brussels...      True  \n",
              "19035  Mattis says no tolerance for terrorist sanctua...      True  \n",
              "5866   Trump's heartland voters shrug off global upro...      True  \n",
              "7267   North Korea does not care who is president of ...      True  \n",
              "\n",
              "[44898 rows x 5 columns]"
            ]
          },
          "execution_count": 135,
          "metadata": {},
          "output_type": "execute_result"
        }
      ]
    },
    {
      "cell_type": "code",
      "metadata": {
        "id": "6QNFXXWfpwVg",
        "outputId": "422dab9b-d27e-4c34-d37e-05042c69800f"
      },
      "source": [
        "df_news.isna().sum()\n",
        "#no missing values"
      ],
      "execution_count": null,
      "outputs": [
        {
          "data": {
            "text/plain": [
              "title        0\n",
              "text         0\n",
              "subject      0\n",
              "True/Fake    0\n",
              "articles     0\n",
              "dtype: int64"
            ]
          },
          "execution_count": 136,
          "metadata": {},
          "output_type": "execute_result"
        }
      ]
    },
    {
      "cell_type": "code",
      "metadata": {
        "id": "Lg6wmipypwVh",
        "outputId": "72401ba9-937f-4188-9e9b-b9b7223ae452"
      },
      "source": [
        "#checking to confirm of the datatypes are correct\n",
        "df_news.dtypes"
      ],
      "execution_count": null,
      "outputs": [
        {
          "data": {
            "text/plain": [
              "title        object\n",
              "text         object\n",
              "subject      object\n",
              "True/Fake    object\n",
              "articles     object\n",
              "dtype: object"
            ]
          },
          "execution_count": 137,
          "metadata": {},
          "output_type": "execute_result"
        }
      ]
    },
    {
      "cell_type": "markdown",
      "metadata": {
        "id": "hrbfsU5CpwVh"
      },
      "source": [
        "### Balancing samples"
      ]
    },
    {
      "cell_type": "code",
      "metadata": {
        "colab": {
          "base_uri": "https://localhost:8080/",
          "height": 217
        },
        "id": "Trx1YG_cpwVh",
        "outputId": "8a257267-ecc9-4b67-a6a1-5f2a2e23f031"
      },
      "source": [
        "#checking value_counts to check if the dataset is balanced\n",
        "df_news[\"True/Fake\"].value_counts()\n",
        "\n",
        "#the result of this check shows the data is not balanced, hence the need to balance it."
      ],
      "execution_count": 1,
      "outputs": [
        {
          "output_type": "error",
          "ename": "NameError",
          "evalue": "ignored",
          "traceback": [
            "\u001b[0;31m---------------------------------------------------------------------------\u001b[0m",
            "\u001b[0;31mNameError\u001b[0m                                 Traceback (most recent call last)",
            "\u001b[0;32m<ipython-input-1-837c8cb50744>\u001b[0m in \u001b[0;36m<module>\u001b[0;34m()\u001b[0m\n\u001b[1;32m      1\u001b[0m \u001b[0;31m#checking value_counts to check if the dataset is balanced\u001b[0m\u001b[0;34m\u001b[0m\u001b[0;34m\u001b[0m\u001b[0;34m\u001b[0m\u001b[0m\n\u001b[0;32m----> 2\u001b[0;31m \u001b[0mdf_news\u001b[0m\u001b[0;34m[\u001b[0m\u001b[0;34m\"True/Fake\"\u001b[0m\u001b[0;34m]\u001b[0m\u001b[0;34m.\u001b[0m\u001b[0mvalue_counts\u001b[0m\u001b[0;34m(\u001b[0m\u001b[0;34m)\u001b[0m\u001b[0;34m\u001b[0m\u001b[0;34m\u001b[0m\u001b[0m\n\u001b[0m\u001b[1;32m      3\u001b[0m \u001b[0;34m\u001b[0m\u001b[0m\n\u001b[1;32m      4\u001b[0m \u001b[0;31m#the result of this check shows the data is not balanced, hence the need to balance it.\u001b[0m\u001b[0;34m\u001b[0m\u001b[0;34m\u001b[0m\u001b[0;34m\u001b[0m\u001b[0m\n",
            "\u001b[0;31mNameError\u001b[0m: name 'df_news' is not defined"
          ]
        }
      ]
    },
    {
      "cell_type": "code",
      "metadata": {
        "id": "ZN2qS-VNpwVh"
      },
      "source": [
        "#Upsampling the minority class to have a balanced dataset\n",
        "df_majority = df_news[df_news[\"True/Fake\"] == \"Fake\"]\n",
        "df_minority = df_news[df_news[\"True/Fake\"] == \"True\"]"
      ],
      "execution_count": null,
      "outputs": []
    },
    {
      "cell_type": "code",
      "metadata": {
        "id": "dhu74GS5pwVi"
      },
      "source": [
        "#Using the resampling function to balance the dataset\n",
        "df_minority_upsampled = resample(df_minority,\n",
        "                                replace = True,\n",
        "                                n_samples = 23481,\n",
        "                                random_state = 12)\n",
        "\n",
        "df_news = pd.concat([df_majority, df_minority_upsampled])"
      ],
      "execution_count": null,
      "outputs": []
    },
    {
      "cell_type": "code",
      "metadata": {
        "id": "o7dL9ZBjpwVi"
      },
      "source": [
        "#Checking to affirm that the dataset has been balanced.\n",
        "df_news[\"True/Fake\"].value_counts()"
      ],
      "execution_count": null,
      "outputs": []
    },
    {
      "cell_type": "code",
      "metadata": {
        "id": "A3KTOIEcpwVj"
      },
      "source": [
        "#checking to ensure that there are no null values.\n",
        "df_news.isna().sum()"
      ],
      "execution_count": null,
      "outputs": []
    },
    {
      "cell_type": "markdown",
      "metadata": {
        "id": "LyhVRGYmpwVj"
      },
      "source": [
        "### Data Preprocessing\n",
        "#### Importing libraries for preprocesting task"
      ]
    },
    {
      "cell_type": "code",
      "metadata": {
        "id": "Gr1ylvASpwVj"
      },
      "source": [
        "from nltk.corpus import stopwords \n",
        "import string\n",
        "from string import punctuation\n",
        "from nltk.tokenize import word_tokenize\n",
        "from nltk.stem import WordNetLemmatizer\n",
        "from collections import Counter"
      ],
      "execution_count": null,
      "outputs": []
    },
    {
      "cell_type": "code",
      "metadata": {
        "id": "XYHD2CQ4pwVk"
      },
      "source": [
        "#defining a function for preprocessing the dataset\n",
        "def Processed_text(s):\n",
        "    \n",
        "    stop_words = set(stopwords.words (\"english\"))\n",
        "    \n",
        "    punctuation = '''...!@#$%^&*(){}[]|._-`/?:;\"'\\,~12345678876543******'''\n",
        "    \n",
        "    lemmatizer = WordNetLemmatizer()\n",
        "\n",
        "    processed_text = word_tokenize(s)\n",
        "    processed_text = [w.lower() for w in processed_text]\n",
        "    \n",
        "    word_counts = Counter(processed_text)\n",
        "    uncommon_words = word_counts.most_common()[:-10:-1]\n",
        "    \n",
        "    processed_text = [w for w in processed_text if w not in stop_words]\n",
        "    processed_text = [w for w in processed_text if w not in punctuation]\n",
        "\n",
        "    \n",
        "    processed_text = [w for w in processed_text if w not in uncommon_words]\n",
        "    processed_text = [lemmatizer.lemmatize(w) for w in processed_text]\n",
        "    \n",
        "    return processed_text\n",
        "   "
      ],
      "execution_count": null,
      "outputs": []
    },
    {
      "cell_type": "code",
      "metadata": {
        "id": "F79OTBBcpwVk"
      },
      "source": [
        "#appling the function on the \"articles\" column, and adding a new column \"clean_text\" to the dataset.\n",
        "#The \"clean_text\" column is the preprocessed/cleaned column\n",
        "df_news[\"clean_text\"] = df_news[\"articles\"].apply(Processed_text)"
      ],
      "execution_count": null,
      "outputs": []
    },
    {
      "cell_type": "code",
      "metadata": {
        "id": "MogV-A6ypwVk",
        "outputId": "93d12cbc-0dc6-48a8-fd8b-48d367e1968d"
      },
      "source": [
        "#checking to affirm that the text has been cleaned.\n",
        "df_news[\"clean_text\"].sample(10)"
      ],
      "execution_count": null,
      "outputs": [
        {
          "data": {
            "text/plain": [
              "20201    [bill, clinton, lost, watch, yank, balloon, li...\n",
              "6312     [obama, say, u.n., vote, n't, rupture, u.s.-is...\n",
              "564      [trump, crushed, ex-kkk, leader, bash, finally...\n",
              "6250     [u.s., trust, russia, trump, nominee, envoy, u...\n",
              "856      [trump, abuse, power, punishes, qatar, refusin...\n",
              "19831    [tillerson, say, u.s., weighing, closing, emba...\n",
              "647      [key, trump, supporter, major, donor, trump, ‘...\n",
              "7567     [popular, st., louis, bar, closed, clientele, ...\n",
              "10707    [senator, say, republican, consensus, vote, ob...\n",
              "14596    [check, new, ben, jerry, ’, flavor, touting, a...\n",
              "Name: clean_text, dtype: object"
            ]
          },
          "execution_count": 146,
          "metadata": {},
          "output_type": "execute_result"
        }
      ]
    },
    {
      "cell_type": "code",
      "metadata": {
        "id": "tEumTVFFpwVl",
        "outputId": "43b6fd29-24ba-4217-f01b-a191d607b0fc"
      },
      "source": [
        "#checking the head of the dataset after carring out preprocessing\n",
        "df_news.head()"
      ],
      "execution_count": null,
      "outputs": [
        {
          "data": {
            "text/html": [
              "<div>\n",
              "<style scoped>\n",
              "    .dataframe tbody tr th:only-of-type {\n",
              "        vertical-align: middle;\n",
              "    }\n",
              "\n",
              "    .dataframe tbody tr th {\n",
              "        vertical-align: top;\n",
              "    }\n",
              "\n",
              "    .dataframe thead th {\n",
              "        text-align: right;\n",
              "    }\n",
              "</style>\n",
              "<table border=\"1\" class=\"dataframe\">\n",
              "  <thead>\n",
              "    <tr style=\"text-align: right;\">\n",
              "      <th></th>\n",
              "      <th>title</th>\n",
              "      <th>text</th>\n",
              "      <th>subject</th>\n",
              "      <th>True/Fake</th>\n",
              "      <th>articles</th>\n",
              "      <th>clean_text</th>\n",
              "    </tr>\n",
              "  </thead>\n",
              "  <tbody>\n",
              "    <tr>\n",
              "      <th>22010</th>\n",
              "      <td>Message for Progressive Left: ‘If You Want to ...</td>\n",
              "      <td>Ever since last month, the US media and the le...</td>\n",
              "      <td>US_News</td>\n",
              "      <td>Fake</td>\n",
              "      <td>Message for Progressive Left: ‘If You Want to ...</td>\n",
              "      <td>[message, progressive, left, ‘, want, see, rea...</td>\n",
              "    </tr>\n",
              "    <tr>\n",
              "      <th>1428</th>\n",
              "      <td>It’s Happening: Justice Department Appoints S...</td>\n",
              "      <td>After the nation joined together and demanded ...</td>\n",
              "      <td>News</td>\n",
              "      <td>Fake</td>\n",
              "      <td>It’s Happening: Justice Department Appoints S...</td>\n",
              "      <td>[’, happening, justice, department, appoints, ...</td>\n",
              "    </tr>\n",
              "    <tr>\n",
              "      <th>7054</th>\n",
              "      <td>Sander’s Campaign Manager Literally Stole An ...</td>\n",
              "      <td>In what seems to be another misspeak moment fo...</td>\n",
              "      <td>News</td>\n",
              "      <td>Fake</td>\n",
              "      <td>Sander’s Campaign Manager Literally Stole An ...</td>\n",
              "      <td>[sander, ’, campaign, manager, literally, stol...</td>\n",
              "    </tr>\n",
              "    <tr>\n",
              "      <th>8579</th>\n",
              "      <td>White High-Schoolers Break The Internet With ...</td>\n",
              "      <td>A group of seniors from Desert Vista High Scho...</td>\n",
              "      <td>News</td>\n",
              "      <td>Fake</td>\n",
              "      <td>White High-Schoolers Break The Internet With ...</td>\n",
              "      <td>[white, high-schoolers, break, internet, truly...</td>\n",
              "    </tr>\n",
              "    <tr>\n",
              "      <th>20712</th>\n",
              "      <td>WATCH: LITTLE HOUSE ON PRAIRIE ACTRESS Runs Fo...</td>\n",
              "      <td>America has proven time and time again that li...</td>\n",
              "      <td>left-news</td>\n",
              "      <td>Fake</td>\n",
              "      <td>WATCH: LITTLE HOUSE ON PRAIRIE ACTRESS Runs Fo...</td>\n",
              "      <td>[watch, little, house, prairie, actress, run, ...</td>\n",
              "    </tr>\n",
              "  </tbody>\n",
              "</table>\n",
              "</div>"
            ],
            "text/plain": [
              "                                                   title  \\\n",
              "22010  Message for Progressive Left: ‘If You Want to ...   \n",
              "1428    It’s Happening: Justice Department Appoints S...   \n",
              "7054    Sander’s Campaign Manager Literally Stole An ...   \n",
              "8579    White High-Schoolers Break The Internet With ...   \n",
              "20712  WATCH: LITTLE HOUSE ON PRAIRIE ACTRESS Runs Fo...   \n",
              "\n",
              "                                                    text    subject True/Fake  \\\n",
              "22010  Ever since last month, the US media and the le...    US_News      Fake   \n",
              "1428   After the nation joined together and demanded ...       News      Fake   \n",
              "7054   In what seems to be another misspeak moment fo...       News      Fake   \n",
              "8579   A group of seniors from Desert Vista High Scho...       News      Fake   \n",
              "20712  America has proven time and time again that li...  left-news      Fake   \n",
              "\n",
              "                                                articles  \\\n",
              "22010  Message for Progressive Left: ‘If You Want to ...   \n",
              "1428    It’s Happening: Justice Department Appoints S...   \n",
              "7054    Sander’s Campaign Manager Literally Stole An ...   \n",
              "8579    White High-Schoolers Break The Internet With ...   \n",
              "20712  WATCH: LITTLE HOUSE ON PRAIRIE ACTRESS Runs Fo...   \n",
              "\n",
              "                                              clean_text  \n",
              "22010  [message, progressive, left, ‘, want, see, rea...  \n",
              "1428   [’, happening, justice, department, appoints, ...  \n",
              "7054   [sander, ’, campaign, manager, literally, stol...  \n",
              "8579   [white, high-schoolers, break, internet, truly...  \n",
              "20712  [watch, little, house, prairie, actress, run, ...  "
            ]
          },
          "execution_count": 147,
          "metadata": {},
          "output_type": "execute_result"
        }
      ]
    },
    {
      "cell_type": "code",
      "metadata": {
        "id": "DoqhWSgDpwVl",
        "outputId": "cee2c2e9-c978-4f15-ebd8-15d07c53c3dd"
      },
      "source": [
        "#checking the shape of the dataset after preprocessing\n",
        "df_news.shape"
      ],
      "execution_count": null,
      "outputs": [
        {
          "data": {
            "text/plain": [
              "(46962, 6)"
            ]
          },
          "execution_count": 148,
          "metadata": {},
          "output_type": "execute_result"
        }
      ]
    },
    {
      "cell_type": "markdown",
      "metadata": {
        "id": "QVQjH3bmpwVl"
      },
      "source": [
        "### Feature Engineering on the dataset \n",
        "\n",
        "#### Importing Libraries for feature engineering "
      ]
    },
    {
      "cell_type": "code",
      "metadata": {
        "id": "za8vKdCNpwVl"
      },
      "source": [
        "from sklearn.feature_extraction.text import CountVectorizer, TfidfVectorizer\n",
        "from sklearn.model_selection import train_test_split"
      ],
      "execution_count": null,
      "outputs": []
    },
    {
      "cell_type": "markdown",
      "metadata": {
        "id": "W3qskdhQpwVm"
      },
      "source": [
        "#### Designating the target and feature variables"
      ]
    },
    {
      "cell_type": "code",
      "metadata": {
        "id": "Ms5y2d6fpwVm"
      },
      "source": [
        "#designating y as the target variable\n",
        "y = df_news[\"True/Fake\"]"
      ],
      "execution_count": null,
      "outputs": []
    },
    {
      "cell_type": "code",
      "metadata": {
        "id": "4iXMKNnYpwVm"
      },
      "source": [
        "#designating x as the feature variables. The column \"clean_text\" was the only column selected as feature variaabl, \n",
        "#since it is the column preprocessing was carried out on.\n",
        "x = df_news[\"clean_text\"]"
      ],
      "execution_count": null,
      "outputs": []
    },
    {
      "cell_type": "code",
      "metadata": {
        "id": "3GLsaFxKpwVm"
      },
      "source": [
        "#slipiting the dataset into test and train\n",
        "train_x, test_x, train_y, test_y = train_test_split(x,y, test_size = 0.25, random_state = 12, stratify = y)"
      ],
      "execution_count": null,
      "outputs": []
    },
    {
      "cell_type": "code",
      "metadata": {
        "id": "WHhlpWGFpwVm",
        "outputId": "792b4f09-0324-47aa-a09c-10f1f72629b8"
      },
      "source": [
        "#checking out the train_y\n",
        "train_y"
      ],
      "execution_count": null,
      "outputs": [
        {
          "data": {
            "text/plain": [
              "15612    True\n",
              "21179    Fake\n",
              "10655    Fake\n",
              "1351     True\n",
              "12772    Fake\n",
              "         ... \n",
              "899      Fake\n",
              "13230    Fake\n",
              "3240     True\n",
              "10396    Fake\n",
              "15852    True\n",
              "Name: True/Fake, Length: 35221, dtype: object"
            ]
          },
          "execution_count": 153,
          "metadata": {},
          "output_type": "execute_result"
        }
      ]
    },
    {
      "cell_type": "code",
      "metadata": {
        "id": "fh3OARI4pwVn",
        "outputId": "bdbdfee9-cad3-4e81-e8b4-93bd649682a6"
      },
      "source": [
        "#checking out the train_x dataset\n",
        "train_x"
      ],
      "execution_count": null,
      "outputs": [
        {
          "data": {
            "text/plain": [
              "15612    [australian, pm, force, lawmaker, declare, cit...\n",
              "21179    [fbi, post, 5,000, reward, person, committed, ...\n",
              "10655    [“, baloney, ”, cnn, anchor, slammed, weather,...\n",
              "1351     [turkey, summons, u.s., consulate, worker, que...\n",
              "12772    [breaking, wikileaks, hillary, admits, u.s., ’...\n",
              "                               ...                        \n",
              "899      [top, intel, dem, rip, trump, kissing, putin, ...\n",
              "13230    [time, house, republican, move, charge, hillar...\n",
              "3240     [trump, host, south, korea, president, june, 2...\n",
              "10396    [mn, somali, man, rape, college, student…gets,...\n",
              "15852    [g5, sahel, launch, military, operation, afric...\n",
              "Name: clean_text, Length: 35221, dtype: object"
            ]
          },
          "execution_count": 154,
          "metadata": {},
          "output_type": "execute_result"
        }
      ]
    },
    {
      "cell_type": "code",
      "metadata": {
        "id": "dUfULUyepwVn",
        "outputId": "da05ec47-2fb3-4089-c42d-92617523a84f"
      },
      "source": [
        "#checking out the test_y dataset\n",
        "test_y"
      ],
      "execution_count": null,
      "outputs": [
        {
          "data": {
            "text/plain": [
              "19697    Fake\n",
              "3289     True\n",
              "6623     Fake\n",
              "2323     True\n",
              "11566    True\n",
              "         ... \n",
              "5722     True\n",
              "21038    Fake\n",
              "7849     True\n",
              "462      Fake\n",
              "9496     True\n",
              "Name: True/Fake, Length: 11741, dtype: object"
            ]
          },
          "execution_count": 155,
          "metadata": {},
          "output_type": "execute_result"
        }
      ]
    },
    {
      "cell_type": "code",
      "metadata": {
        "id": "I4DXR5TMpwVn",
        "outputId": "6442128a-a979-4fec-fffd-b7122611e493"
      },
      "source": [
        "#checking out the test_x dataset\n",
        "test_x"
      ],
      "execution_count": null,
      "outputs": [
        {
          "data": {
            "text/plain": [
              "19697    [breaking, email, leak, “, bernie, need, groun...\n",
              "3289     [wilbur, ross, seen, imposing, mexico, sugar, ...\n",
              "6623     [president, obama, senate, gop, seriously, guy...\n",
              "2323     [russia, penny, balkan, comment, expose, washi...\n",
              "11566    [japan, approves, record, defense, spending, f...\n",
              "                               ...                        \n",
              "5722     [highlight, trump, presidency, february, 6:15,...\n",
              "21038    [europe, crash, burn, eu, official, finally, a...\n",
              "7849     [trump, president, would, pose, global, danger...\n",
              "462      [guy, donald, trump, called, ‘, african-americ...\n",
              "9496     [trump, north, korea, wall, street, regulation...\n",
              "Name: clean_text, Length: 11741, dtype: object"
            ]
          },
          "execution_count": 156,
          "metadata": {},
          "output_type": "execute_result"
        }
      ]
    },
    {
      "cell_type": "code",
      "metadata": {
        "id": "w2gTKzQ5pwVo"
      },
      "source": [
        "#defining a function that will convert our train and test variables (train_x and test_x) \n",
        "#to pandas.core.series.Series to allow us carry out the feature engineering on the text.\n",
        "def lis(ls):\n",
        "    return ' '.join(ls)"
      ],
      "execution_count": null,
      "outputs": []
    },
    {
      "cell_type": "code",
      "metadata": {
        "id": "0bkkpuRFpwVo",
        "outputId": "7803c6d5-c1ad-401a-e1a4-1e4dbd7707e5"
      },
      "source": [
        "#appling the \"lis\" function on train_x\n",
        "train_x.apply(lis)"
      ],
      "execution_count": null,
      "outputs": [
        {
          "data": {
            "text/plain": [
              "15612    australian pm force lawmaker declare citizensh...\n",
              "21179    fbi post 5,000 reward person committed “ hate ...\n",
              "10655    “ baloney ” cnn anchor slammed weather channel...\n",
              "1351     turkey summons u.s. consulate worker questioni...\n",
              "12772    breaking wikileaks hillary admits u.s. ’ possi...\n",
              "                               ...                        \n",
              "899      top intel dem rip trump kissing putin ’ a**s ‘...\n",
              "13230    time house republican move charge hillary perj...\n",
              "3240     trump host south korea president june 29-30 wh...\n",
              "10396    mn somali man rape college student…gets 90-day...\n",
              "15852    g5 sahel launch military operation african scr...\n",
              "Name: clean_text, Length: 35221, dtype: object"
            ]
          },
          "execution_count": 158,
          "metadata": {},
          "output_type": "execute_result"
        }
      ]
    },
    {
      "cell_type": "code",
      "metadata": {
        "id": "rI-OHnOLpwVo"
      },
      "source": [
        "#putting train_x after appling the function above still in train_x variable name.\n",
        "train_x = train_x.apply(lis)"
      ],
      "execution_count": null,
      "outputs": []
    },
    {
      "cell_type": "code",
      "metadata": {
        "id": "HuhPE4JMpwVo",
        "outputId": "99bc1465-9693-4ae9-e4d2-ade2dfebb2a2"
      },
      "source": [
        "#affirmig the datatype of the train_x\n",
        "type(train_x)"
      ],
      "execution_count": null,
      "outputs": [
        {
          "data": {
            "text/plain": [
              "pandas.core.series.Series"
            ]
          },
          "execution_count": 160,
          "metadata": {},
          "output_type": "execute_result"
        }
      ]
    },
    {
      "cell_type": "code",
      "metadata": {
        "id": "0B6GNMm1pwVo",
        "outputId": "7b136ad2-8e10-421c-e73a-ccedf3be9cd9"
      },
      "source": [
        "#appling the \"lis\" function on test_x\n",
        "test_x.apply(lis)"
      ],
      "execution_count": null,
      "outputs": [
        {
          "data": {
            "text/plain": [
              "19697    breaking email leak “ bernie need ground pulp…...\n",
              "3289     wilbur ross seen imposing mexico sugar deal in...\n",
              "6623     president obama senate gop seriously guy f*cki...\n",
              "2323     russia penny balkan comment expose washington ...\n",
              "11566    japan approves record defense spending favor u...\n",
              "                               ...                        \n",
              "5722     highlight trump presidency february 6:15 p.m. ...\n",
              "21038    europe crash burn eu official finally admit se...\n",
              "7849     trump president would pose global danger u.n. ...\n",
              "462      guy donald trump called ‘ african-american ’ t...\n",
              "9496     trump north korea wall street regulation tech ...\n",
              "Name: clean_text, Length: 11741, dtype: object"
            ]
          },
          "execution_count": 161,
          "metadata": {},
          "output_type": "execute_result"
        }
      ]
    },
    {
      "cell_type": "code",
      "metadata": {
        "id": "9IiQyaGwpwVp"
      },
      "source": [
        "#putting train_x after appling the function above still in test_x variable name\n",
        "test_x = test_x.apply(lis)"
      ],
      "execution_count": null,
      "outputs": []
    },
    {
      "cell_type": "code",
      "metadata": {
        "id": "tC6Fxyx4pwVp",
        "outputId": "1ba07579-cb11-4ac6-b0ea-4d0c83850f5b"
      },
      "source": [
        "#affirmig the datatype of the test_x\n",
        "type(test_x)"
      ],
      "execution_count": null,
      "outputs": [
        {
          "data": {
            "text/plain": [
              "pandas.core.series.Series"
            ]
          },
          "execution_count": 163,
          "metadata": {},
          "output_type": "execute_result"
        }
      ]
    },
    {
      "cell_type": "code",
      "metadata": {
        "id": "ULgzoUTXpwVp"
      },
      "source": [
        "#applying vectorizer\n",
        "#appling the CountVectorizer\n",
        "\n",
        "vect_1 = CountVectorizer(analyzer = Processed_text)"
      ],
      "execution_count": null,
      "outputs": []
    },
    {
      "cell_type": "code",
      "metadata": {
        "id": "aWYs9seKpwVp",
        "outputId": "4fb7acb2-8778-4249-8b84-1d990ba8a63b"
      },
      "source": [
        "#training the algorithm with the dataset (train_x) using the CountVectorizer\n",
        "vect_1.fit(train_x)"
      ],
      "execution_count": null,
      "outputs": [
        {
          "data": {
            "text/plain": [
              "CountVectorizer(analyzer=<function Processed_text at 0x000000A1B3675678>,\n",
              "                binary=False, decode_error='strict',\n",
              "                dtype=<class 'numpy.int64'>, encoding='utf-8', input='content',\n",
              "                lowercase=True, max_df=1.0, max_features=None, min_df=1,\n",
              "                ngram_range=(1, 1), preprocessor=None, stop_words=None,\n",
              "                strip_accents=None, token_pattern='(?u)\\\\b\\\\w\\\\w+\\\\b',\n",
              "                tokenizer=None, vocabulary=None)"
            ]
          },
          "execution_count": 165,
          "metadata": {},
          "output_type": "execute_result"
        }
      ]
    },
    {
      "cell_type": "code",
      "metadata": {
        "id": "P70Sx0ZKpwVq",
        "outputId": "b084c2da-1a10-4ee4-cbcd-f0a9b2538ecf"
      },
      "source": [
        "#transforming the datasets \"train_x\" & \"test_x\" to numbers using CountVectorizer\n",
        "train_x_cnt = vect_1.transform(train_x)\n",
        "test_x_cnt = vect_1.transform(test_x)\n",
        "\n",
        "#the shape of the train_x & test_x after converting the datasets to numbers using CountfVectorizer\n",
        "print(train_x_cnt.shape, test_x_cnt.shape)"
      ],
      "execution_count": null,
      "outputs": [
        {
          "name": "stdout",
          "output_type": "stream",
          "text": [
            "(35221, 195163) (11741, 195163)\n"
          ]
        }
      ]
    },
    {
      "cell_type": "code",
      "metadata": {
        "id": "mY6G71mopwVq",
        "outputId": "1899857c-93ef-4842-fb34-f96662e66a28"
      },
      "source": [
        "#printing the train_x dataset after the tranformation/conversion to affirm the conversion\n",
        "print(train_x_cnt)"
      ],
      "execution_count": null,
      "outputs": [
        {
          "name": "stdout",
          "output_type": "stream",
          "text": [
            "  (0, 11691)\t1\n",
            "  (0, 12053)\t1\n",
            "  (0, 18553)\t1\n",
            "  (0, 20207)\t1\n",
            "  (0, 20244)\t1\n",
            "  (0, 22865)\t1\n",
            "  (0, 23190)\t1\n",
            "  (0, 23243)\t1\n",
            "  (0, 24752)\t1\n",
            "  (0, 25666)\t1\n",
            "  (0, 26187)\t1\n",
            "  (0, 28675)\t2\n",
            "  (0, 28780)\t1\n",
            "  (0, 28786)\t3\n",
            "  (0, 30793)\t1\n",
            "  (0, 30964)\t1\n",
            "  (0, 34030)\t1\n",
            "  (0, 35904)\t2\n",
            "  (0, 39197)\t1\n",
            "  (0, 39824)\t1\n",
            "  (0, 40918)\t1\n",
            "  (0, 41838)\t1\n",
            "  (0, 42370)\t3\n",
            "  (0, 42961)\t1\n",
            "  (0, 44518)\t3\n",
            "  :\t:\n",
            "  (35220, 158853)\t1\n",
            "  (35220, 159722)\t1\n",
            "  (35220, 160859)\t2\n",
            "  (35220, 162830)\t2\n",
            "  (35220, 165418)\t2\n",
            "  (35220, 165421)\t1\n",
            "  (35220, 165672)\t2\n",
            "  (35220, 168840)\t1\n",
            "  (35220, 169111)\t1\n",
            "  (35220, 169588)\t1\n",
            "  (35220, 174457)\t1\n",
            "  (35220, 174685)\t1\n",
            "  (35220, 177010)\t1\n",
            "  (35220, 177142)\t1\n",
            "  (35220, 177958)\t2\n",
            "  (35220, 180498)\t1\n",
            "  (35220, 180547)\t1\n",
            "  (35220, 181800)\t1\n",
            "  (35220, 182244)\t3\n",
            "  (35220, 182632)\t1\n",
            "  (35220, 187740)\t1\n",
            "  (35220, 188651)\t1\n",
            "  (35220, 189987)\t2\n",
            "  (35220, 191515)\t1\n",
            "  (35220, 192056)\t1\n"
          ]
        }
      ]
    },
    {
      "cell_type": "code",
      "metadata": {
        "id": "yjyo1JSCpwVq",
        "outputId": "777526fe-dd63-47c0-a858-55d54cbc1adb"
      },
      "source": [
        "#appling the TFIDF Vectorizer\n",
        "vect_2 = TfidfVectorizer(analyzer = Processed_text)\n",
        "\n",
        "#training the algorithm with the dataset (train_x) using the Tfidf Vectorizer\n",
        "vect_2.fit(train_x)"
      ],
      "execution_count": null,
      "outputs": [
        {
          "data": {
            "text/plain": [
              "TfidfVectorizer(analyzer=<function Processed_text at 0x000000A1B3675678>,\n",
              "                binary=False, decode_error='strict',\n",
              "                dtype=<class 'numpy.float64'>, encoding='utf-8',\n",
              "                input='content', lowercase=True, max_df=1.0, max_features=None,\n",
              "                min_df=1, ngram_range=(1, 1), norm='l2', preprocessor=None,\n",
              "                smooth_idf=True, stop_words=None, strip_accents=None,\n",
              "                sublinear_tf=False, token_pattern='(?u)\\\\b\\\\w\\\\w+\\\\b',\n",
              "                tokenizer=None, use_idf=True, vocabulary=None)"
            ]
          },
          "execution_count": 168,
          "metadata": {},
          "output_type": "execute_result"
        }
      ]
    },
    {
      "cell_type": "code",
      "metadata": {
        "id": "-M-7HV4JpwVq",
        "outputId": "76fc75e8-513d-450f-a3bb-2af57615e1b2"
      },
      "source": [
        "#transforming the datasets \"train_x\" & \"test_x\" to numbers using TfidfVectorizer\n",
        "train_x_tfidf = vect_2.transform(train_x)\n",
        "test_x_tfidf = vect_2.transform(test_x)\n",
        "\n",
        "#the shape of the train_x & test_x after converting the datasets to numbers using TfidfVectorizer\n",
        "print(train_x_tfidf.shape, test_x_tfidf.shape)"
      ],
      "execution_count": null,
      "outputs": [
        {
          "name": "stdout",
          "output_type": "stream",
          "text": [
            "(35221, 195163) (11741, 195163)\n"
          ]
        }
      ]
    },
    {
      "cell_type": "code",
      "metadata": {
        "id": "Arw4MQ22pwVr",
        "outputId": "7fe254ee-ff8b-4639-e0df-0c67a0b2e69a"
      },
      "source": [
        "#printing the train_x dataset after the tranformation/conversion to affirm the conversion\n",
        "print(train_x_tfidf)"
      ],
      "execution_count": null,
      "outputs": [
        {
          "name": "stdout",
          "output_type": "stream",
          "text": [
            "  (0, 193568)\t0.03132671195769243\n",
            "  (0, 193067)\t0.018758762308543092\n",
            "  (0, 192056)\t0.09660301883180668\n",
            "  (0, 188651)\t0.02265029408114429\n",
            "  (0, 182391)\t0.050209093028457996\n",
            "  (0, 181300)\t0.05922821000473552\n",
            "  (0, 180203)\t0.02174095360463054\n",
            "  (0, 179544)\t0.04765016425845654\n",
            "  (0, 179536)\t0.40899276746370156\n",
            "  (0, 176069)\t0.02003095513188656\n",
            "  (0, 175015)\t0.0392981021683475\n",
            "  (0, 174623)\t0.052679224763448454\n",
            "  (0, 174457)\t0.028393513275230587\n",
            "  (0, 169520)\t0.0753380200430926\n",
            "  (0, 168840)\t0.025095433936396083\n",
            "  (0, 168272)\t0.041123206895021545\n",
            "  (0, 167345)\t0.057253371135472395\n",
            "  (0, 166093)\t0.04278761965313085\n",
            "  (0, 164693)\t0.06942066432328153\n",
            "  (0, 164350)\t0.05046895583249876\n",
            "  (0, 161180)\t0.036792764353834134\n",
            "  (0, 161172)\t0.09345290157509267\n",
            "  (0, 160859)\t0.023633285825628472\n",
            "  (0, 160752)\t0.03931721269648306\n",
            "  (0, 158336)\t0.03997294348629357\n",
            "  :\t:\n",
            "  (35220, 33314)\t0.08264382609112551\n",
            "  (35220, 32122)\t0.04804858148827754\n",
            "  (35220, 31750)\t0.04496804570846287\n",
            "  (35220, 31376)\t0.06664171017847384\n",
            "  (35220, 31118)\t0.038281068331215355\n",
            "  (35220, 29827)\t0.03854801658495959\n",
            "  (35220, 29711)\t0.04523912228198377\n",
            "  (35220, 28236)\t0.05250383933782119\n",
            "  (35220, 26955)\t0.038105245494852474\n",
            "  (35220, 26681)\t0.03168370481732942\n",
            "  (35220, 24068)\t0.040209368273224806\n",
            "  (35220, 23605)\t0.06335001981434212\n",
            "  (35220, 23243)\t0.03382873201530364\n",
            "  (35220, 22989)\t0.03322176164229777\n",
            "  (35220, 21673)\t0.04067737792385613\n",
            "  (35220, 21381)\t0.04235031391656857\n",
            "  (35220, 20444)\t0.043239582925317446\n",
            "  (35220, 20421)\t0.0446960637372727\n",
            "  (35220, 18974)\t0.030667638539969067\n",
            "  (35220, 18861)\t0.046849585544278156\n",
            "  (35220, 15408)\t0.04112582867794525\n",
            "  (35220, 14505)\t0.052797564017137845\n",
            "  (35220, 13674)\t0.05731560386960185\n",
            "  (35220, 12469)\t0.0424960645045986\n",
            "  (35220, 9128)\t0.07469001711797355\n"
          ]
        }
      ]
    },
    {
      "cell_type": "markdown",
      "metadata": {
        "id": "PXRpYPYcpwVr"
      },
      "source": [
        "### Modeling and Evaluation\n",
        "\n",
        "#### Importing Libraries"
      ]
    },
    {
      "cell_type": "code",
      "metadata": {
        "id": "pabTCiBBpwVr"
      },
      "source": [
        "from sklearn import metrics\n",
        "\n",
        "from sklearn.naive_bayes import MultinomialNB\n",
        "import matplotlib.pyplot as plt\n",
        "from sklearn.metrics import classification_report\n",
        "import seaborn as sns"
      ],
      "execution_count": null,
      "outputs": []
    },
    {
      "cell_type": "code",
      "metadata": {
        "id": "envRUOKCpwVr"
      },
      "source": [
        "#create an instance of the estimator\n",
        "nb = MultinomialNB()"
      ],
      "execution_count": null,
      "outputs": []
    },
    {
      "cell_type": "markdown",
      "metadata": {
        "id": "KncpJpGCpwVr"
      },
      "source": [
        "### Modelling "
      ]
    },
    {
      "cell_type": "code",
      "metadata": {
        "id": "SzGglnt8pwVs",
        "outputId": "0329779d-098a-4079-cb83-d41fc90ea2ed"
      },
      "source": [
        "#use the training data to train the estimator\n",
        "\n",
        "#for train and test data from CounterVectorizer\n",
        "nb.fit(train_x_cnt, train_y)"
      ],
      "execution_count": null,
      "outputs": [
        {
          "data": {
            "text/plain": [
              "MultinomialNB(alpha=1.0, class_prior=None, fit_prior=True)"
            ]
          },
          "execution_count": 173,
          "metadata": {},
          "output_type": "execute_result"
        }
      ]
    },
    {
      "cell_type": "code",
      "metadata": {
        "id": "nt1sLZMnpwVs",
        "outputId": "dc0acb1c-759d-4ce4-e278-859e2b7814cb"
      },
      "source": [
        "#for train and test data from TfidfVectorizer\n",
        "nb.fit(train_x_tfidf, train_y)"
      ],
      "execution_count": null,
      "outputs": [
        {
          "data": {
            "text/plain": [
              "MultinomialNB(alpha=1.0, class_prior=None, fit_prior=True)"
            ]
          },
          "execution_count": 174,
          "metadata": {},
          "output_type": "execute_result"
        }
      ]
    },
    {
      "cell_type": "markdown",
      "metadata": {
        "id": "5P4sVI9GpwVs"
      },
      "source": [
        "### Evaluating the models"
      ]
    },
    {
      "cell_type": "code",
      "metadata": {
        "id": "skn_7gjopwVs"
      },
      "source": [
        "#evaluating the performance of the model\n",
        "y_pred_test_cnt = nb.predict(test_x_cnt)\n",
        "y_pred_test_tfidf = nb.predict(test_x_tfidf)"
      ],
      "execution_count": null,
      "outputs": []
    },
    {
      "cell_type": "code",
      "metadata": {
        "id": "eIGaAKlWpwVt"
      },
      "source": [
        "#calculating the accuracy of models\n",
        "y_pred_cnt_acc = metrics.accuracy_score(y_pred = y_pred_test_cnt, y_true = test_y)\n",
        "y_pred_tfidf_acc = metrics.accuracy_score(y_pred = y_pred_test_tfidf, y_true = test_y)"
      ],
      "execution_count": null,
      "outputs": []
    },
    {
      "cell_type": "code",
      "metadata": {
        "id": "5reWZhmppwVt"
      },
      "source": [
        "#calculating the precision of the models\n",
        "y_pred_cnt_prec = metrics.precision_score(y_pred = y_pred_test_cnt, y_true = test_y, pos_label = \"Fake\")\n",
        "y_pred_tfidf_prec = metrics.precision_score(y_pred = y_pred_test_tfidf, y_true = test_y, pos_label = \"Fake\")"
      ],
      "execution_count": null,
      "outputs": []
    },
    {
      "cell_type": "code",
      "metadata": {
        "id": "0CiYIKgnpwVt"
      },
      "source": [
        "#confusion matrix\n",
        "cm_cnt = metrics.confusion_matrix(y_pred = y_pred_test_cnt, y_true = test_y)\n",
        "cm_tfidf = metrics.confusion_matrix(y_pred = y_pred_test_tfidf, y_true = test_y)"
      ],
      "execution_count": null,
      "outputs": []
    },
    {
      "cell_type": "code",
      "metadata": {
        "id": "qEQk53mfpwVt",
        "outputId": "6afb8e95-5227-4886-b575-741a63583636"
      },
      "source": [
        "#Precision and Accuracy for cnt\n",
        "print(\"Precision for cnt: {:0.2f}%\".format (100*y_pred_cnt_prec))\n",
        "print(\"Accuracy for cnt: {:0.2f}%\".format (100*y_pred_cnt_acc))"
      ],
      "execution_count": null,
      "outputs": [
        {
          "name": "stdout",
          "output_type": "stream",
          "text": [
            "Precision for cnt: 99.20%\n",
            "Accuracy for cnt: 95.14%\n"
          ]
        }
      ]
    },
    {
      "cell_type": "code",
      "metadata": {
        "id": "NlN1iq1bpwVt",
        "outputId": "10d7f54f-f3c8-48a8-931e-2010a54e9fe0"
      },
      "source": [
        "#Precision and Accuracy for tfidf\n",
        "print(\"Precision for tfidf: {:0.2f}%\".format (100*y_pred_tfidf_prec))\n",
        "print(\"Accuracy for tfidf: {:0.2f}%\".format (100*y_pred_tfidf_acc))"
      ],
      "execution_count": null,
      "outputs": [
        {
          "name": "stdout",
          "output_type": "stream",
          "text": [
            "Precision for tfidf: 97.19%\n",
            "Accuracy for tfidf: 95.24%\n"
          ]
        }
      ]
    },
    {
      "cell_type": "code",
      "metadata": {
        "id": "eZ-ilef-pwVu",
        "outputId": "17a252aa-4768-4bca-f910-7bff21a505a7"
      },
      "source": [
        "#Confusion matrix for cnt\n",
        "print(\"Confusion Matrix for cnt:\\n\",cm_cnt)"
      ],
      "execution_count": null,
      "outputs": [
        {
          "name": "stdout",
          "output_type": "stream",
          "text": [
            "Confusion Matrix for cnt:\n",
            " [[5342  528]\n",
            " [  43 5828]]\n"
          ]
        }
      ]
    },
    {
      "cell_type": "code",
      "metadata": {
        "id": "63mB6geppwVu",
        "outputId": "0b4f14bf-6d63-44a2-8a1a-201454c8793d"
      },
      "source": [
        "#Confusion matrix for tfidf\n",
        "print(\"Confusion Matrix for tfidf:\\n\",cm_tfidf)"
      ],
      "execution_count": null,
      "outputs": [
        {
          "name": "stdout",
          "output_type": "stream",
          "text": [
            "Confusion Matrix for tfidf:\n",
            " [[5469  401]\n",
            " [ 158 5713]]\n"
          ]
        }
      ]
    },
    {
      "cell_type": "code",
      "metadata": {
        "id": "-c_HB6G4pwVu",
        "outputId": "aef60e56-4bd1-4d40-ea31-dd7580c7f703"
      },
      "source": [
        "#printing the classification_report for tfidf\n",
        "report_tfidf = classification_report(y_pred = y_pred_test_tfidf, y_true = test_y)\n",
        "print(report_tfidf)"
      ],
      "execution_count": null,
      "outputs": [
        {
          "name": "stdout",
          "output_type": "stream",
          "text": [
            "              precision    recall  f1-score   support\n",
            "\n",
            "        Fake       0.97      0.93      0.95      5870\n",
            "        True       0.93      0.97      0.95      5871\n",
            "\n",
            "    accuracy                           0.95     11741\n",
            "   macro avg       0.95      0.95      0.95     11741\n",
            "weighted avg       0.95      0.95      0.95     11741\n",
            "\n"
          ]
        }
      ]
    },
    {
      "cell_type": "code",
      "metadata": {
        "id": "GzVGTnPYpwVu",
        "outputId": "9b7cab7b-ea2b-4193-93a1-63a7addfd44c"
      },
      "source": [
        "#printing the classification_report for cnt\n",
        "report_cnt = classification_report(y_pred = y_pred_test_cnt, y_true = test_y)\n",
        "print(report_cnt)"
      ],
      "execution_count": null,
      "outputs": [
        {
          "name": "stdout",
          "output_type": "stream",
          "text": [
            "              precision    recall  f1-score   support\n",
            "\n",
            "        Fake       0.99      0.91      0.95      5870\n",
            "        True       0.92      0.99      0.95      5871\n",
            "\n",
            "    accuracy                           0.95     11741\n",
            "   macro avg       0.95      0.95      0.95     11741\n",
            "weighted avg       0.95      0.95      0.95     11741\n",
            "\n"
          ]
        }
      ]
    },
    {
      "cell_type": "code",
      "metadata": {
        "id": "bIqXxZS_pwVv",
        "outputId": "65f11d0e-7132-460f-e623-892298db92f1"
      },
      "source": [
        "#ploting a graph for the confusion matrix of cnt values\n",
        "cm_cnt = metrics.confusion_matrix(y_pred = y_pred_test_cnt, y_true = test_y)\n",
        "\n",
        "plt.show()\n",
        "plt.figure(figsize=(10,10))\n",
        "sns.heatmap(cm_cnt, annot=True, linewidth=.5, square = True, cmap = 'Blues_r',fmt='f');\n",
        "plt.ylabel('Actual label');\n",
        "plt.xlabel('Predicted label');\n",
        "plt.title('Confusion Matrix for MultinomialNB', size = 10);\n"
      ],
      "execution_count": null,
      "outputs": [
        {
          "data": {
            "image/png": "[encoded data removed]",
            "text/plain": [
              "<Figure size 720x720 with 2 Axes>"
            ]
          },
          "metadata": {
            "needs_background": "light"
          },
          "output_type": "display_data"
        }
      ]
    },
    {
      "cell_type": "code",
      "metadata": {
        "id": "Oaqb6kFVpwVv",
        "outputId": "beaecd97-7d65-4547-ba5c-d769c984e108"
      },
      "source": [
        "#ploting a graph for the confusion matrix of cnt values\n",
        "m_tfidf = metrics.confusion_matrix(y_pred = y_pred_test_tfidf, y_true = test_y)\n",
        "\n",
        "plt.show()\n",
        "plt.figure(figsize=(10,10))\n",
        "sns.heatmap(cm_tfidf, annot=True, linewidth=.5, square = True, cmap = 'Blues_r',fmt='f');\n",
        "plt.ylabel('Actual label');\n",
        "plt.xlabel('Predicted label');\n",
        "plt.title('Confusion Matrix for MultinomialNB', size = 10);\n"
      ],
      "execution_count": null,
      "outputs": [
        {
          "data": {
            "image/png": "[encoded data removed]",
            "text/plain": [
              "<Figure size 720x720 with 2 Axes>"
            ]
          },
          "metadata": {
            "needs_background": "light"
          },
          "output_type": "display_data"
        }
      ]
    },
    {
      "cell_type": "markdown",
      "metadata": {
        "id": "qYG7dMwXpwVv"
      },
      "source": [
        "### Merging the Predicted Valeues (y_pred) of Y and the Actual Values(test_y) of Y."
      ]
    },
    {
      "cell_type": "code",
      "metadata": {
        "id": "sQYERiXPpwVv",
        "outputId": "3195299a-4b1a-4e6f-8589-908bb81b6ecf"
      },
      "source": [
        "#calling our test_y dataset\n",
        "test_y"
      ],
      "execution_count": null,
      "outputs": [
        {
          "data": {
            "text/plain": [
              "19697    Fake\n",
              "3289     True\n",
              "6623     Fake\n",
              "2323     True\n",
              "11566    True\n",
              "         ... \n",
              "5722     True\n",
              "21038    Fake\n",
              "7849     True\n",
              "462      Fake\n",
              "9496     True\n",
              "Name: True/Fake, Length: 11741, dtype: object"
            ]
          },
          "execution_count": 187,
          "metadata": {},
          "output_type": "execute_result"
        }
      ]
    },
    {
      "cell_type": "code",
      "metadata": {
        "id": "wwGb6WijpwVw",
        "outputId": "0a6ec808-19ca-407b-b893-8a5e15b4f128"
      },
      "source": [
        "#Checking the shape to affirm if it will be equal with the dataset it will be merged with.\n",
        "test_y.shape"
      ],
      "execution_count": null,
      "outputs": [
        {
          "data": {
            "text/plain": [
              "(11741,)"
            ]
          },
          "execution_count": 188,
          "metadata": {},
          "output_type": "execute_result"
        }
      ]
    },
    {
      "cell_type": "code",
      "metadata": {
        "id": "rCH-a-8dpwVw",
        "outputId": "6928ee14-bd78-4bdc-99ec-4ada790f41df"
      },
      "source": [
        "#Checking the type of the dataset to know if our what task to do on it inorder for us to merge\n",
        "type(test_y)"
      ],
      "execution_count": null,
      "outputs": [
        {
          "data": {
            "text/plain": [
              "pandas.core.series.Series"
            ]
          },
          "execution_count": 189,
          "metadata": {},
          "output_type": "execute_result"
        }
      ]
    },
    {
      "cell_type": "code",
      "metadata": {
        "id": "bubGwfo-pwVw",
        "outputId": "b499ac9e-6a87-41c6-a8cb-444fe8ff43f9"
      },
      "source": [
        "#calling out the y_pred_test_cnt dataset.\n",
        "y_pred_test_cnt"
      ],
      "execution_count": null,
      "outputs": [
        {
          "data": {
            "text/plain": [
              "array(['Fake', 'True', 'Fake', ..., 'True', 'Fake', 'True'], dtype='<U4')"
            ]
          },
          "execution_count": 190,
          "metadata": {},
          "output_type": "execute_result"
        }
      ]
    },
    {
      "cell_type": "code",
      "metadata": {
        "id": "nJMXNOqRpwVx",
        "outputId": "67ae00d0-231d-4f79-bd32-1f8cde55c597"
      },
      "source": [
        "#calling out the y_pred_test_tfidf dataset.\n",
        "y_pred_test_tfidf"
      ],
      "execution_count": null,
      "outputs": [
        {
          "data": {
            "text/plain": [
              "array(['Fake', 'True', 'Fake', ..., 'True', 'Fake', 'True'], dtype='<U4')"
            ]
          },
          "execution_count": 191,
          "metadata": {},
          "output_type": "execute_result"
        }
      ]
    },
    {
      "cell_type": "code",
      "metadata": {
        "id": "vio53PWJpwVx",
        "outputId": "1025675f-2898-4307-c7c0-4651d1405cef"
      },
      "source": [
        "#Checking the type of the dataset to know if our what task to do on it inorder for us to merge\n",
        "type(y_pred_test_cnt)"
      ],
      "execution_count": null,
      "outputs": [
        {
          "data": {
            "text/plain": [
              "numpy.ndarray"
            ]
          },
          "execution_count": 192,
          "metadata": {},
          "output_type": "execute_result"
        }
      ]
    },
    {
      "cell_type": "code",
      "metadata": {
        "id": "2N89qfkcpwVx",
        "outputId": "1597a8a4-f26e-4028-c323-6ada65149de2"
      },
      "source": [
        "#Checking the type of the dataset to know if our what task to do on it inorder for us to merge\n",
        "y_pred_test_tfidf"
      ],
      "execution_count": null,
      "outputs": [
        {
          "data": {
            "text/plain": [
              "array(['Fake', 'True', 'Fake', ..., 'True', 'Fake', 'True'], dtype='<U4')"
            ]
          },
          "execution_count": 193,
          "metadata": {},
          "output_type": "execute_result"
        }
      ]
    },
    {
      "cell_type": "code",
      "metadata": {
        "id": "9p2oXpg1pwVx",
        "outputId": "598f6491-1a51-42e1-b952-6b064f1e3347"
      },
      "source": [
        "#Converting the two data sets to pandas dataframe type to allow us merge them, and merging them together.\n",
        "#for the predicted y values from CountVectorizer. \n",
        "cnt = pd.DataFrame({\"Predicted_cnt\":y_pred_test_cnt,\"Actual\":test_y})\n",
        "cnt"
      ],
      "execution_count": null,
      "outputs": [
        {
          "data": {
            "text/html": [
              "<div>\n",
              "<style scoped>\n",
              "    .dataframe tbody tr th:only-of-type {\n",
              "        vertical-align: middle;\n",
              "    }\n",
              "\n",
              "    .dataframe tbody tr th {\n",
              "        vertical-align: top;\n",
              "    }\n",
              "\n",
              "    .dataframe thead th {\n",
              "        text-align: right;\n",
              "    }\n",
              "</style>\n",
              "<table border=\"1\" class=\"dataframe\">\n",
              "  <thead>\n",
              "    <tr style=\"text-align: right;\">\n",
              "      <th></th>\n",
              "      <th>Predicted_cnt</th>\n",
              "      <th>Actual</th>\n",
              "    </tr>\n",
              "  </thead>\n",
              "  <tbody>\n",
              "    <tr>\n",
              "      <th>19697</th>\n",
              "      <td>Fake</td>\n",
              "      <td>Fake</td>\n",
              "    </tr>\n",
              "    <tr>\n",
              "      <th>3289</th>\n",
              "      <td>True</td>\n",
              "      <td>True</td>\n",
              "    </tr>\n",
              "    <tr>\n",
              "      <th>6623</th>\n",
              "      <td>Fake</td>\n",
              "      <td>Fake</td>\n",
              "    </tr>\n",
              "    <tr>\n",
              "      <th>2323</th>\n",
              "      <td>True</td>\n",
              "      <td>True</td>\n",
              "    </tr>\n",
              "    <tr>\n",
              "      <th>11566</th>\n",
              "      <td>True</td>\n",
              "      <td>True</td>\n",
              "    </tr>\n",
              "    <tr>\n",
              "      <th>...</th>\n",
              "      <td>...</td>\n",
              "      <td>...</td>\n",
              "    </tr>\n",
              "    <tr>\n",
              "      <th>5722</th>\n",
              "      <td>True</td>\n",
              "      <td>True</td>\n",
              "    </tr>\n",
              "    <tr>\n",
              "      <th>21038</th>\n",
              "      <td>Fake</td>\n",
              "      <td>Fake</td>\n",
              "    </tr>\n",
              "    <tr>\n",
              "      <th>7849</th>\n",
              "      <td>True</td>\n",
              "      <td>True</td>\n",
              "    </tr>\n",
              "    <tr>\n",
              "      <th>462</th>\n",
              "      <td>Fake</td>\n",
              "      <td>Fake</td>\n",
              "    </tr>\n",
              "    <tr>\n",
              "      <th>9496</th>\n",
              "      <td>True</td>\n",
              "      <td>True</td>\n",
              "    </tr>\n",
              "  </tbody>\n",
              "</table>\n",
              "<p>11741 rows × 2 columns</p>\n",
              "</div>"
            ],
            "text/plain": [
              "      Predicted_cnt Actual\n",
              "19697          Fake   Fake\n",
              "3289           True   True\n",
              "6623           Fake   Fake\n",
              "2323           True   True\n",
              "11566          True   True\n",
              "...             ...    ...\n",
              "5722           True   True\n",
              "21038          Fake   Fake\n",
              "7849           True   True\n",
              "462            Fake   Fake\n",
              "9496           True   True\n",
              "\n",
              "[11741 rows x 2 columns]"
            ]
          },
          "execution_count": 194,
          "metadata": {},
          "output_type": "execute_result"
        }
      ]
    },
    {
      "cell_type": "code",
      "metadata": {
        "id": "n42EW9HspwVy"
      },
      "source": [
        "#exporting the merged dataset \n",
        "cnt.to_csv(\"COMPARED VALUES OF PREDICTED Y AND TEST Y_CNT.csv\", encoding = \"utf8\")"
      ],
      "execution_count": null,
      "outputs": []
    },
    {
      "cell_type": "code",
      "metadata": {
        "id": "aYhskHEOpwVy",
        "outputId": "e0647b6d-8b95-4f4a-9526-716da14a566c"
      },
      "source": [
        "#Converting the two data sets to pandas dataframe type to allow us merge them, and merging them together.\n",
        "#for the predicted y values from TfidfVectorizer. \n",
        "tfidf = pd.DataFrame({\"Predicted_tfidf\":y_pred_test_tfidf,\"Actual\":test_y})\n",
        "tfidf"
      ],
      "execution_count": null,
      "outputs": [
        {
          "data": {
            "text/html": [
              "<div>\n",
              "<style scoped>\n",
              "    .dataframe tbody tr th:only-of-type {\n",
              "        vertical-align: middle;\n",
              "    }\n",
              "\n",
              "    .dataframe tbody tr th {\n",
              "        vertical-align: top;\n",
              "    }\n",
              "\n",
              "    .dataframe thead th {\n",
              "        text-align: right;\n",
              "    }\n",
              "</style>\n",
              "<table border=\"1\" class=\"dataframe\">\n",
              "  <thead>\n",
              "    <tr style=\"text-align: right;\">\n",
              "      <th></th>\n",
              "      <th>Predicted_tfidf</th>\n",
              "      <th>Actual</th>\n",
              "    </tr>\n",
              "  </thead>\n",
              "  <tbody>\n",
              "    <tr>\n",
              "      <th>19697</th>\n",
              "      <td>Fake</td>\n",
              "      <td>Fake</td>\n",
              "    </tr>\n",
              "    <tr>\n",
              "      <th>3289</th>\n",
              "      <td>True</td>\n",
              "      <td>True</td>\n",
              "    </tr>\n",
              "    <tr>\n",
              "      <th>6623</th>\n",
              "      <td>Fake</td>\n",
              "      <td>Fake</td>\n",
              "    </tr>\n",
              "    <tr>\n",
              "      <th>2323</th>\n",
              "      <td>True</td>\n",
              "      <td>True</td>\n",
              "    </tr>\n",
              "    <tr>\n",
              "      <th>11566</th>\n",
              "      <td>True</td>\n",
              "      <td>True</td>\n",
              "    </tr>\n",
              "    <tr>\n",
              "      <th>...</th>\n",
              "      <td>...</td>\n",
              "      <td>...</td>\n",
              "    </tr>\n",
              "    <tr>\n",
              "      <th>5722</th>\n",
              "      <td>True</td>\n",
              "      <td>True</td>\n",
              "    </tr>\n",
              "    <tr>\n",
              "      <th>21038</th>\n",
              "      <td>Fake</td>\n",
              "      <td>Fake</td>\n",
              "    </tr>\n",
              "    <tr>\n",
              "      <th>7849</th>\n",
              "      <td>True</td>\n",
              "      <td>True</td>\n",
              "    </tr>\n",
              "    <tr>\n",
              "      <th>462</th>\n",
              "      <td>Fake</td>\n",
              "      <td>Fake</td>\n",
              "    </tr>\n",
              "    <tr>\n",
              "      <th>9496</th>\n",
              "      <td>True</td>\n",
              "      <td>True</td>\n",
              "    </tr>\n",
              "  </tbody>\n",
              "</table>\n",
              "<p>11741 rows × 2 columns</p>\n",
              "</div>"
            ],
            "text/plain": [
              "      Predicted_tfidf Actual\n",
              "19697            Fake   Fake\n",
              "3289             True   True\n",
              "6623             Fake   Fake\n",
              "2323             True   True\n",
              "11566            True   True\n",
              "...               ...    ...\n",
              "5722             True   True\n",
              "21038            Fake   Fake\n",
              "7849             True   True\n",
              "462              Fake   Fake\n",
              "9496             True   True\n",
              "\n",
              "[11741 rows x 2 columns]"
            ]
          },
          "execution_count": 196,
          "metadata": {},
          "output_type": "execute_result"
        }
      ]
    },
    {
      "cell_type": "code",
      "metadata": {
        "id": "Wq9LC6RxpwVy"
      },
      "source": [
        "#exporting the merged dataset \n",
        "tfidf.to_csv(\"COMPARED VALUES OF PREDICTED Y AND TEST Y_TFIDF.csv\", encoding = \"utf8\")"
      ],
      "execution_count": null,
      "outputs": []
    },
    {
      "cell_type": "markdown",
      "metadata": {
        "id": "DnI2Dw1mpwVy"
      },
      "source": [
        "#                                            THE END "
      ]
    }
  ]
}